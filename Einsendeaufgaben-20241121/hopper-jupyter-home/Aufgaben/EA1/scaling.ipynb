{
 "cells": [
  {
   "cell_type": "markdown",
   "id": "1db7b199-4ef9-49e9-956e-9f88648a8ec9",
   "metadata": {},
   "source": [
    "# EA 1, Aufgabe 5\n",
    "\n",
    "Das gesuchte Programm `mergesort` sollte sich im gleichen Ordner wie dieses Notebook befinden, genau wie das Makefile:\n"
   ]
  },
  {
   "cell_type": "code",
   "execution_count": 5,
   "id": "43a6f8b4-6e23-424f-9a23-b84189fcef8c",
   "metadata": {},
   "outputs": [
    {
     "name": "stdout",
     "output_type": "stream",
     "text": [
      "Makefile  mergesort  mergesort.c  scaling.ipynb\n"
     ]
    }
   ],
   "source": [
    "!ls"
   ]
  },
  {
   "cell_type": "markdown",
   "id": "52ce613e-14bd-433a-82c7-f1955fa5a980",
   "metadata": {},
   "source": [
    "Sie können es dann mit `make` kompilieren:"
   ]
  },
  {
   "cell_type": "code",
   "execution_count": 6,
   "id": "fce56f06-09aa-4617-b4ea-7d1714738bf3",
   "metadata": {},
   "outputs": [
    {
     "name": "stdout",
     "output_type": "stream",
     "text": [
      "make: 'mergesort' is up to date.\n"
     ]
    }
   ],
   "source": [
    "!make"
   ]
  },
  {
   "cell_type": "markdown",
   "id": "418946a1-0ee4-45da-85f1-b4212080dc4a",
   "metadata": {},
   "source": [
    "Und dann ausführen: "
   ]
  },
  {
   "cell_type": "code",
   "execution_count": 8,
   "id": "32f5dfb1-7279-4a5d-bbcd-7ba2473325b7",
   "metadata": {},
   "outputs": [
    {
     "name": "stdout",
     "output_type": "stream",
     "text": [
      "No arguments have been passed. Default values are: \n",
      "1. Number of threads: 64.\n",
      "2. Length of array to be sorted: 1000000.\n",
      "Smallest execution time of 10 runs: 0.124172 \n"
     ]
    }
   ],
   "source": [
    "!./mergesort"
   ]
  },
  {
   "cell_type": "markdown",
   "id": "62770b90-fc70-4ffb-983b-a0e99ebed81b",
   "metadata": {},
   "source": [
    "Sie können  die Anzahl der Threads als erstes Element angeben: "
   ]
  },
  {
   "cell_type": "code",
   "execution_count": 9,
   "id": "9d673915-fcac-4087-b74b-56a2013eb5ee",
   "metadata": {},
   "outputs": [
    {
     "name": "stdout",
     "output_type": "stream",
     "text": [
      "No arguments for list length has been passed. Default values are: \n",
      "2. Length of array to be sorted: 1000000.\n",
      "Smallest execution time of 10 runs: 0.098578 \n"
     ]
    }
   ],
   "source": [
    "!./mergesort  1"
   ]
  },
  {
   "cell_type": "markdown",
   "id": "6a38aded-d89b-453d-955c-9e96020c6d11",
   "metadata": {},
   "source": [
    "Oder die Anzahl der Threads  und die Anzahl der Elemente, die Sie sortieren möchten: "
   ]
  },
  {
   "cell_type": "code",
   "execution_count": 10,
   "id": "53dc4e34-4f56-46b9-8d58-ee30aa512403",
   "metadata": {},
   "outputs": [
    {
     "name": "stdout",
     "output_type": "stream",
     "text": [
      "Smallest execution time of 10 runs: 0.103802 \n"
     ]
    }
   ],
   "source": [
    "! ./mergesort 1 1048576"
   ]
  },
  {
   "cell_type": "markdown",
   "id": "89193f2b-4be8-4f33-a77a-1c3da14f3e38",
   "metadata": {},
   "source": [
    "Die Ausführung wird dabei jeweils 10 mal wiederholt. "
   ]
  },
  {
   "cell_type": "markdown",
   "id": "3d45884e-db7f-46a9-8f9b-81927db879a6",
   "metadata": {},
   "source": [
    "**Tipp**:\n",
    "    Sie können die Ausführung des Codes manuell machen oder in diesem Notebook mit Hilfe von Python automatisieren, z.B. mit:"
   ]
  },
  {
   "cell_type": "code",
   "execution_count": 12,
   "id": "6b1b12b7-9013-4a91-bbe2-509668815e7e",
   "metadata": {},
   "outputs": [
    {
     "name": "stdout",
     "output_type": "stream",
     "text": [
      "1048576\n",
      "Smallest execution time of 10 runs: 0.105034 \n",
      "2097152\n",
      "Smallest execution time of 10 runs: 0.224274 \n",
      "4194304\n",
      "Smallest execution time of 10 runs: 0.465262 \n"
     ]
    }
   ],
   "source": [
    "import os\n",
    "\n",
    "for n in [20, 21, 22]:\n",
    "    string = \"./mergesort 1 \" + str(2**n)\n",
    "    print(2**n)\n",
    "    os.system(string)"
   ]
  },
  {
   "cell_type": "markdown",
   "id": "a9e78486-9c18-4825-84c4-97b0b3f0fc30",
   "metadata": {},
   "source": [
    "oder aber:"
   ]
  },
  {
   "cell_type": "code",
   "execution_count": 13,
   "id": "b3448314-0673-4a13-ad8c-e25a91b01c7f",
   "metadata": {},
   "outputs": [
    {
     "name": "stdout",
     "output_type": "stream",
     "text": [
      "20 0.060341\n",
      "21 0.125350\n",
      "22 0.260592\n"
     ]
    }
   ],
   "source": [
    "import subprocess\n",
    "\n",
    "for n in [20, 21, 22]:\n",
    "    cmd = \"./mergesort \" + str(2) + \" \" + str(2**n)\n",
    "    output = subprocess.Popen(cmd, stdout=subprocess.PIPE, shell=True).communicate()[0]\n",
    "    print(\"{} {}\".format(n, (str(output).split()[6])))"
   ]
  }
 ],
 "metadata": {
  "kernelspec": {
   "display_name": "Python 3 (ipykernel)",
   "language": "python",
   "name": "python3"
  },
  "language_info": {
   "codemirror_mode": {
    "name": "ipython",
    "version": 3
   },
   "file_extension": ".py",
   "mimetype": "text/x-python",
   "name": "python",
   "nbconvert_exporter": "python",
   "pygments_lexer": "ipython3",
   "version": "3.10.11"
  }
 },
 "nbformat": 4,
 "nbformat_minor": 5
}
