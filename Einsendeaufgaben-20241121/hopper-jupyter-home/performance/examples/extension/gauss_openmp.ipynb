{
 "cells": [
  {
   "cell_type": "code",
   "execution_count": null,
   "id": "b10a57e4-178e-439d-a3b2-9ff4b0df21e8",
   "metadata": {},
   "outputs": [],
   "source": [
    "#include \"../helpers/matrix_functions.h\"\n",
    "#include \"../helpers/gauss_functions.h\"\n",
    "#include <stdbool.h>\n",
    "#include <omp.h>\n",
    "#pragma cling load(\"libomp.so\")"
   ]
  },
  {
   "cell_type": "code",
   "execution_count": null,
   "id": "d3202aa0-4126-422a-9963-24ff3567b8eb",
   "metadata": {},
   "outputs": [],
   "source": [
    "/**Implements the sequential version of the Gaussian algorithm.  \n",
    "    @param A, b References to the input data.\n",
    "    @param n Number of rows in the input matrix.\n",
    "    **/\n",
    "\n",
    "void gauss(double *B, int n, int m){\n",
    "    \n",
    "    for(int k=0;k<n-1;k++){\n",
    "        //Pivoting\n",
    "        int maxIdx = find_max_k(B, n, m, k);\n",
    "        swap(B, n, m, k, maxIdx, k);\n",
    "        if(B[k*m + k] == 0){\n",
    "            printf(\"Zero pivot!\");\n",
    "            return;\n",
    "        }       \n",
    "        //Elimination\n",
    "        #pragma omp parallel for schedule(static, 1)\n",
    "        for(int i=k+1; i<n; i++){\n",
    "            double q = B[i*m + k]/B[k*m + k];\n",
    "            for(int j=k; j<m; j++){\n",
    "                B[i*m + j] -= q*B[k*m + j];\n",
    "            }            \n",
    "        }  \n",
    "        \n",
    "    }\n",
    "}"
   ]
  },
  {
   "cell_type": "code",
   "execution_count": null,
   "id": "292d76bf-cd60-404d-b458-d306557766a2",
   "metadata": {},
   "outputs": [],
   "source": [
    "// start_main\n",
    "double *Ab;\n",
    "double error; \n",
    "int n = 64;\n",
    "int m = n+1;\n",
    "// start_timing\n",
    "// start_init\n",
    "init_matrix(&Ab,n,m,false);\n",
    "// end_init\n",
    "// start_compute\n",
    "gauss(Ab, n, m);\n",
    "double * x = (double *)malloc(n*sizeof(double));\n",
    "backsub(Ab,n,m,x);\n",
    "// end_compute\n",
    "// start_cleanup\n",
    "free(Ab);\n",
    "// end_cleanup\n",
    "// end_timing\n",
    "// end_main"
   ]
  }
 ],
 "metadata": {
  "kernelspec": {
   "display_name": "C++17 (-O3)",
   "language": "C++17",
   "name": "xcpp17"
  },
  "language_info": {
   "codemirror_mode": "text/x-c++src",
   "file_extension": ".cpp",
   "mimetype": "text/x-c++src",
   "name": "c++",
   "version": "17"
  }
 },
 "nbformat": 4,
 "nbformat_minor": 5
}
