{
 "cells": [
  {
   "cell_type": "code",
   "execution_count": 1,
   "id": "c4967810-20b2-42af-9d1b-68d226dbcc49",
   "metadata": {
    "tags": []
   },
   "outputs": [],
   "source": [
    "#include <stdio.h>\n",
    "#include <stdlib.h>\n",
    "#include <math.h>\n",
    "#include <omp.h>\n",
    "#include <performance.hpp>\n",
    "#include <immintrin.h>"
   ]
  },
  {
   "cell_type": "code",
   "execution_count": 2,
   "id": "89992fb5-eff0-4928-bd0b-897284b0aca4",
   "metadata": {
    "tags": []
   },
   "outputs": [],
   "source": [
    "void add_index_vec(double *x, int n) {\n",
    "    __m512d index, x_vec;\n",
    "    for (int i = 0; i < n; i+=8) {\n",
    "        x_vec = _mm512_load_pd(x+i); // load 8 double\n",
    "        index = _mm512_set_pd(i+7, i+6, i+5, i+4, i+3, i+2, i+1, i);\n",
    "        x_vec = _mm512_add_pd(x_vec, index); // add the two\n",
    "        _mm512_store_pd(x+i, x_vec); // store back\n",
    "    }\n",
    "} "
   ]
  },
  {
   "cell_type": "code",
   "execution_count": 3,
   "id": "1fb96fc2-4693-414b-84a7-d432f6d04094",
   "metadata": {
    "tags": []
   },
   "outputs": [],
   "source": [
    "void add_index(double *x, int n) {\n",
    "    for (int i = 0; i < n; i+=1) {\n",
    "        x[i] = x[i] + i;\n",
    "    }\n",
    "} "
   ]
  },
  {
   "cell_type": "code",
   "execution_count": 4,
   "id": "2083230a-7d35-4ab8-a232-0489eb3e4d5c",
   "metadata": {},
   "outputs": [],
   "source": [
    "void add_index_omp(double *x, int n) {\n",
    "    #pragma omp simd\n",
    "    for (int i = 0; i < n; i+=1) {\n",
    "        x[i] = x[i] + i;\n",
    "    }\n",
    "} "
   ]
  },
  {
   "cell_type": "code",
   "execution_count": 5,
   "id": "b81c591d-1c4e-45bf-9dd8-3d2edd082607",
   "metadata": {},
   "outputs": [],
   "source": [
    "// start_main\n",
    "double *x;\n",
    "int n = 1024;\n",
    "if (x != NULL) \n",
    "    free(x);\n",
    "\n",
    "x = (double*) aligned_alloc(4096, sizeof(double)*n);\n",
    "for(int i=0; i<n; i++){\n",
    "  x[i]=3.4*i;\n",
    "}\n",
    "add_index(x,n);\n",
    "\n",
    "// start_timing\n",
    "for(int k = 0; k<5000; k++)\n",
    "add_index(x,n);\n",
    "// end_timing\n",
    "// start_timing\n",
    "for(int k = 0; k<5000; k++)\n",
    "add_index_vec(x,n);\n",
    "// end_timing\n",
    "// start_timing\n",
    "for(int k = 0; k<5000; k++)\n",
    "add_index_omp(x,n);\n",
    "// end_timing\n",
    "// end_main"
   ]
  },
  {
   "cell_type": "code",
   "execution_count": 6,
   "id": "32e71465-dc79-4b72-9776-fcbd0309b2fb",
   "metadata": {},
   "outputs": [
    {
     "name": "stdout",
     "output_type": "stream",
     "text": [
      "[NbConvertApp] Converting notebook /home/jovyan/materials/performance/test/notebooks/api/vectorization.ipynb to script\n",
      "[NbConvertApp] Writing 1328 bytes to /home/jovyan/materials/performance/test/notebooks/api/vectorization_results/vectorization.cpp\n",
      "\n"
     ]
    }
   ],
   "source": [
    "performance p{\"vectorization.ipynb\"};\n",
    "display::lazy_image timingIm;"
   ]
  },
  {
   "cell_type": "code",
   "execution_count": 7,
   "id": "9bed9164-bf9f-4318-921d-4a8fd0e815a7",
   "metadata": {
    "tags": []
   },
   "outputs": [
    {
     "name": "stdout",
     "output_type": "stream",
     "text": [
      "\n",
      "### Python file command_runner.py started:\n",
      "g++ /home/jovyan/materials/performance/test/notebooks/api/vectorization_results/vectorization.cpp -o /home/jovyan/materials/performance/test/notebooks/api/vectorization_results/vectorization.exe -fopenmp -lm -O3 -fopt-info-vec -fopenmp-simd  -ftree-vectorizer-verbose=6  -march=skylake-avx512 -fopt-info-vec\n",
      "/home/jovyan/materials/performance/test/notebooks/api/vectorization_results/vectorization.cpp:18:23: optimized: loop vectorized using 32 byte vectors\n",
      "/home/jovyan/materials/performance/test/notebooks/api/vectorization_results/vectorization.cpp:18:23: optimized: loop vectorized using 16 byte vectors\n",
      "/home/jovyan/materials/performance/test/notebooks/api/vectorization_results/vectorization.cpp:26:18: optimized: loop vectorized using 32 byte vectors\n",
      "/home/jovyan/materials/performance/test/notebooks/api/vectorization_results/vectorization.cpp:26:18: optimized: loop vectorized using 16 byte vectors\n",
      "\n"
     ]
    }
   ],
   "source": [
    "p.print_compiler_optimization( \"-O3 -fopt-info-vec -fopenmp-simd  -ftree-vectorizer-verbose=6  -march=skylake-avx512\");"
   ]
  }
 ],
 "metadata": {
  "kernelspec": {
   "display_name": "C++17 (-O3)",
   "language": "C++17",
   "name": "xcpp17"
  },
  "language_info": {
   "codemirror_mode": "text/x-c++src",
   "file_extension": ".cpp",
   "mimetype": "text/x-c++src",
   "name": "c++",
   "version": "17"
  }
 },
 "nbformat": 4,
 "nbformat_minor": 5
}
