{
 "cells": [
  {
   "cell_type": "markdown",
   "metadata": {},
   "source": [
    "# EA3, Aufgabe 4 "
   ]
  },
  {
   "cell_type": "code",
   "execution_count": 1,
   "metadata": {},
   "outputs": [],
   "source": [
    "//Zunächst ein paar includes \n",
    "#include <stdio.h>\n",
    "#include <stdlib.h>\n",
    "#include <time.h>\n",
    "#include <math.h>\n",
    "#include <omp.h>\n",
    "#pragma cling load(\"libomp.so\")\n"
   ]
  },
  {
   "cell_type": "code",
   "execution_count": 2,
   "metadata": {},
   "outputs": [],
   "source": [
    "struct zahlen {\n",
    "  int a;\n",
    "  int b;\n",
    "  int kgv;\n",
    "  int prime[2];\n",
    "};"
   ]
  },
  {
   "cell_type": "code",
   "execution_count": 3,
   "metadata": {},
   "outputs": [],
   "source": [
    "struct zahlen *liste;"
   ]
  },
  {
   "cell_type": "code",
   "execution_count": 4,
   "metadata": {},
   "outputs": [],
   "source": [
    "int TestForPrime(int val)\n",
    "{\n",
    "    int limit, factor = 3;\n",
    "\n",
    "    limit = (long)(sqrtf((float)val)+0.5f);\n",
    "    while( (factor <= limit) && (val % factor))\n",
    "        factor ++;\n",
    "\n",
    "    return (factor > limit);\n",
    "}\n"
   ]
  },
  {
   "cell_type": "code",
   "execution_count": 5,
   "metadata": {},
   "outputs": [],
   "source": [
    "int ggT(int zahl1, int zahl2)\n",
    "{\n",
    "  if(zahl2 == 0)\n",
    "  {\n",
    "   return zahl1;\n",
    "  }\n",
    "\n",
    "  return ggT(zahl2, zahl1%zahl2);\n",
    "}"
   ]
  },
  {
   "cell_type": "code",
   "execution_count": 6,
   "metadata": {},
   "outputs": [],
   "source": [
    "int kgV(int zahl1, int zahl2)\n",
    "{\n",
    "   return (zahl1*zahl2)/ggT(zahl1, zahl2);\n",
    "}"
   ]
  },
  {
   "cell_type": "code",
   "execution_count": 7,
   "metadata": {},
   "outputs": [],
   "source": [
    "void init(int n){\n",
    "    \n",
    "    for (int i = 0; i<n; i++){\n",
    "        \n",
    "          liste[i].a = rand()%100000;\n",
    "        liste[i].b = rand()%100000;\n",
    "    }\n",
    "}"
   ]
  },
  {
   "cell_type": "code",
   "execution_count": 8,
   "metadata": {},
   "outputs": [],
   "source": [
    "void berechne_kgv(int n)\n",
    "{\n",
    "     for (int i = 0; i<n; i++){\n",
    "        \n",
    "        liste[i].kgv = kgV(liste[i].a,liste[i].b);\n",
    "    }\n",
    "    \n",
    "}"
   ]
  },
  {
   "cell_type": "code",
   "execution_count": 9,
   "metadata": {},
   "outputs": [],
   "source": [
    "void berechne_prime(int n)\n",
    "{\n",
    "     for (int i = 0; i<n; i++){\n",
    "         liste[i].prime[0]=TestForPrime(liste[i].a);\n",
    "         liste[i].prime[1]=TestForPrime(liste[i].b);\n",
    "     }\n",
    "    \n",
    "}"
   ]
  },
  {
   "cell_type": "code",
   "execution_count": 10,
   "metadata": {},
   "outputs": [],
   "source": [
    "void compute(int n)  {\n",
    "\n",
    "berechne_kgv(n);\n",
    "berechne_prime(n);\n",
    " \n",
    "}"
   ]
  },
  {
   "cell_type": "code",
   "execution_count": 11,
   "metadata": {},
   "outputs": [
    {
     "name": "stdout",
     "output_type": "stream",
     "text": [
      "I have 64 threads \n"
     ]
    }
   ],
   "source": [
    "// start_main\n",
    "double before, after;\n",
    "int n = 1024;\n",
    "#pragma omp parallel\n",
    "if(omp_get_thread_num()==0)\n",
    "  printf(\"I have %d threads \\n\", omp_get_num_threads());\n",
    "liste= (struct zahlen *) malloc(n*sizeof(struct zahlen));\n",
    "init(n);\n",
    "compute(n);\n",
    "\n",
    "// end_main \n",
    "\n"
   ]
  },
  {
   "cell_type": "code",
   "execution_count": null,
   "metadata": {},
   "outputs": [],
   "source": [
    "#include <performance.hpp>\n"
   ]
  },
  {
   "cell_type": "code",
   "execution_count": 12,
   "metadata": {},
   "outputs": [
    {
     "name": "stdout",
     "output_type": "stream",
     "text": [
      "[NbConvertApp] Converting notebook /home/jovyan/materials/Aufgaben/EA3/Notebooks/EA3_4.ipynb to script\n",
      "[NbConvertApp] Writing 1511 bytes to /home/jovyan/materials/Aufgaben/EA3/Notebooks/EA3_4_results/EA3_4.cpp\n",
      "\n"
     ]
    }
   ],
   "source": [
    "performance p(\"EA3_4.ipynb\");"
   ]
  },
  {
   "cell_type": "code",
   "execution_count": null,
   "metadata": {},
   "outputs": [],
   "source": []
  }
 ],
 "metadata": {
  "kernelspec": {
   "display_name": "C++17 (-O3)",
   "language": "C++17",
   "name": "xcpp17"
  },
  "language_info": {
   "codemirror_mode": "text/x-c++src",
   "file_extension": ".cpp",
   "mimetype": "text/x-c++src",
   "name": "c++",
   "version": "17"
  }
 },
 "nbformat": 4,
 "nbformat_minor": 4
}
