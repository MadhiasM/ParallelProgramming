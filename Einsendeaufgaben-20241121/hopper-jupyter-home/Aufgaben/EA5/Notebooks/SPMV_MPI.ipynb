{
 "cells": [
  {
   "cell_type": "code",
   "execution_count": 1,
   "id": "1f948181-256f-4a45-a2d0-5c202b2b0093",
   "metadata": {},
   "outputs": [],
   "source": [
    "#include <iostream>\n",
    "#include \"csr_formatter.h\" \n",
    "#include <omp.h>\n",
    "#include <stdio.h>\n",
    "#include <math.h>\n",
    "#include <stdlib.h>\n",
    "#include <functional>\n",
    "#include <string> \n",
    "#include <mpi.h>\n",
    "\n"
   ]
  },
  {
   "cell_type": "code",
   "execution_count": 2,
   "id": "a695221f-332e-4d94-90d2-48b94c39e0b6",
   "metadata": {},
   "outputs": [],
   "source": [
    "double randfrom(double min, double max) \n",
    "{\n",
    "    double range = (max - min); \n",
    "    double div = RAND_MAX / range;\n",
    "    return min + (rand() / div);\n",
    "}"
   ]
  },
  {
   "cell_type": "code",
   "execution_count": 3,
   "id": "69f39cea-a612-4504-b5a5-8fdef36a5fe4",
   "metadata": {},
   "outputs": [],
   "source": [
    "double* init_vector(int size) {\n",
    "   double* b = (double*)malloc(size*sizeof(double));\n",
    "   for(int i=0; i<size; i++) {\n",
    "       b[i]=randfrom(-1, 1);   \n",
    "   }\n",
    "     return b;\n",
    " }"
   ]
  },
  {
   "cell_type": "code",
   "execution_count": 4,
   "id": "d255c951-39a0-4b7a-a9ea-617afee96a26",
   "metadata": {},
   "outputs": [],
   "source": [
    "void SpMV_MPI(double *data, int *cols, int *rowptr, int n_local, double *b, double *c){\n",
    "\n",
    "}"
   ]
  },
  {
   "cell_type": "code",
   "execution_count": 5,
   "id": "51edf407-fa27-482b-9f5b-d989d2f011e2",
   "metadata": {},
   "outputs": [],
   "source": [
    "//Für den Vergleich die Klassiche Berechnung\n",
    "void DMV(double *data, int n, int k, double *b, double *c){\n",
    "  for(int i = 0; i<n; i++){\n",
    "      double tmp=0;\n",
    "      for(int j=0; j<k; j++){\n",
    "          tmp+=data[i*k+j]*b[j];\n",
    "         \n",
    "      }\n",
    "      c[i]=tmp;\n",
    "  }  \n",
    "}"
   ]
  },
  {
   "cell_type": "code",
   "execution_count": 6,
   "id": "387a496c-062c-4188-8234-3cecb4a666c7",
   "metadata": {},
   "outputs": [],
   "source": [
    "std:: string choose_file(int n){\n",
    "if (n==0)\n",
    "     return \"../data/c-22.mtx\";\n",
    " if (n==1)\n",
    "     return \"../data/parabolic_fem.mtx\";\n",
    "else if (n==2) \n",
    "    return \"../data/nxp1.mtx\";\n",
    "else if (n==3)\n",
    "     return \"../data/bundle_adj.mtx\";\n",
    "else if( n==4) \n",
    "    return \"../data/ss.mtx\";\n",
    "else return \"\";\n",
    "}"
   ]
  },
  {
   "cell_type": "code",
   "execution_count": 12,
   "id": "b326a6a4-a5b6-44bb-8f3f-0e5eee327d61",
   "metadata": {},
   "outputs": [
    {
     "name": "stdout",
     "output_type": "stream",
     "text": [
      "Writing executable to /tmp/mpi_SPMV1.x\n"
     ]
    }
   ],
   "source": [
    "%%executable /tmp/mpi_SPMV1.x -- -lmpi \n",
    "// start_main\n",
    "#define ABS(a) ((a) >0 ? (a) :-(a))\n",
    "int my_id, num_p;\n",
    "double *b;\n",
    "double *c ;\n",
    "CSR* Mat;\n",
    "\n",
    "MPI_Init(NULL, NULL);\n",
    "MPI_Comm_rank(MPI_COMM_WORLD, &my_id);\n",
    "MPI_Comm_size(MPI_COMM_WORLD, &num_p);\n",
    "int rank = my_id;\n",
    "int n = 0;\n",
    "//liest die Matrix   ein dabei liest jeder Prozess nur seinen Teil der Daten! Liest die Daten so ein, dass die nicht-Null Elemente gleich verteilt sind! Bitte Anpassen für den 2. Teil der Aufgabenstellung! \n",
    "Mat = assemble_part_csr_matrix( choose_file(n),my_id,num_p );\n",
    "\n",
    "if(my_id==0) \n",
    "    b=init_vector(Mat->M);\n",
    "else \n",
    "    b= (double*)malloc(sizeof(double)*Mat->M);\n",
    "//Verteile den Vektor b an alle Prozesse: \n",
    "\n",
    "MPI_Bcast(b, Mat->M, MPI_DOUBLE, 0, MPI_COMM_WORLD);\n",
    "// localer Teil der Lösung \n",
    "double* my_c =(double*)malloc((Mat->local_n+1)*sizeof(double));\n",
    "//hier bitte den Rest Implementieren!  \n",
    "MPI_Barrier(MPI_COMM_WORLD);\n",
    "\n",
    "SpMV_MPI(Mat->val, Mat->col_ind, Mat->row_ptr, Mat->local_n, b, my_c);\n",
    "//Sammeln der Ergebnisse Implementieren \n",
    "if(my_id ==0) {\n",
    "   c =(double*)malloc(Mat->M*sizeof(double));\n",
    "}\n",
    " free_CSR(Mat);\n",
    "//Test for small Matrix\n",
    "if(Mat->N < (1<<15)&& my_id == 0) {\n",
    "   double *m = assemble_dense_matrix(choose_file(n));\n",
    "   double* c2 = (double*)malloc(Mat->M*sizeof(double));\n",
    "   DMV(m, Mat->N, Mat->M, b, c2);\n",
    "   int p =0;\n",
    "   for (int i=0; i<Mat->N; i++) {\n",
    "   if(ABS(c[i]-c2[i])>1e-4) {printf(\" wrong %d %f %f %f\\n\",i,c[i],c2[i], ABS(c[i]-c2[i]));p++; if(p>20) break; }\n",
    "  }\n",
    "    if(p==0)\n",
    "        printf(\"result is correct\\n\");\n",
    "\n",
    " free(m);\n",
    " free(c2);\n",
    "\n",
    "}\n",
    "free(Mat);\n",
    "free(c);\n",
    "\n",
    "MPI_Finalize();\n",
    "// end_main"
   ]
  },
  {
   "cell_type": "code",
   "execution_count": 13,
   "id": "00ae0ff0-6b58-40e0-bf61-f585d4923fab",
   "metadata": {},
   "outputs": [
    {
     "name": "stdout",
     "output_type": "stream",
     "text": [
      "[NbConvertApp] Converting notebook /home/jovyan/1727/EA5/Aufgaben/SPMV_MPI.ipynb to script\n",
      "[NbConvertApp] Writing 2861 bytes to /home/jovyan/1727/EA5/Aufgaben/SPMV_MPI_results/SPMV_MPI.cpp\n",
      "\n",
      "[NbConvertApp] Converting notebook /home/jovyan/1727/EA5/Aufgaben/SPMV_MPI.ipynb to script\n",
      "[NbConvertApp] Writing 2861 bytes to /home/jovyan/1727/EA5/Aufgaben/SPMV_MPI_results/SPMV_MPI.cpp\n",
      "\n",
      "[jupyterhub-jupyter-oden:13824] mca_base_component_repository_open: unable to open mca_btl_openib: librdmacm.so.1: cannot open shared object file: No such file or directory (ignored)\n",
      "[jupyterhub-jupyter-oden:13841] mca_base_component_repository_open: unable to open mca_btl_openib: librdmacm.so.1: cannot open shared object file: No such file or directory (ignored)\n",
      "[NbConvertApp] Converting notebook /home/jovyan/1727/EA5/Aufgaben/SPMV_MPI.ipynb to script\n",
      "[NbConvertApp] Writing 2861 bytes to /home/jovyan/1727/EA5/Aufgaben/SPMV_MPI_results/SPMV_MPI.cpp\n",
      "\n",
      "[NbConvertApp] Converting notebook /home/jovyan/1727/EA5/Aufgaben/SPMV_MPI.ipynb to script\n",
      "[NbConvertApp] Writing 2861 bytes to /home/jovyan/1727/EA5/Aufgaben/SPMV_MPI_results/SPMV_MPI.cpp\n",
      "\n",
      "[NbConvertApp] Converting notebook /home/jovyan/1727/EA5/Aufgaben/SPMV_MPI.ipynb to script\n",
      "[NbConvertApp] Writing 2861 bytes to /home/jovyan/1727/EA5/Aufgaben/SPMV_MPI_results/SPMV_MPI.cpp\n",
      "\n",
      "[NbConvertApp] Converting notebook /home/jovyan/1727/EA5/Aufgaben/SPMV_MPI.ipynb to script\n",
      "[NbConvertApp] Writing 2861 bytes to /home/jovyan/1727/EA5/Aufgaben/SPMV_MPI_results/SPMV_MPI.cpp\n",
      "\n",
      "[NbConvertApp] Converting notebook /home/jovyan/1727/EA5/Aufgaben/SPMV_MPI.ipynb to script\n",
      "[NbConvertApp] Writing 2861 bytes to /home/jovyan/1727/EA5/Aufgaben/SPMV_MPI_results/SPMV_MPI.cpp\n",
      "\n",
      "[jupyterhub-jupyter-oden:13836] mca_base_component_repository_open: unable to open mca_btl_openib: librdmacm.so.1: cannot open shared object file: No such file or directory (ignored)\n",
      "[jupyterhub-jupyter-oden:13825] mca_base_component_repository_open: unable to open mca_btl_openib: librdmacm.so.1: cannot open shared object file: No such file or directory (ignored)\n",
      "[jupyterhub-jupyter-oden:13833] mca_base_component_repository_open: unable to open mca_btl_openib: librdmacm.so.1: cannot open shared object file: No such file or directory (ignored)\n",
      "[jupyterhub-jupyter-oden:13823] mca_base_component_repository_open: unable to open mca_btl_openib: librdmacm.so.1: cannot open shared object file: No such file or directory (ignored)\n",
      "[jupyterhub-jupyter-oden:13830] mca_base_component_repository_open: unable to open mca_btl_openib: librdmacm.so.1: cannot open shared object file: No such file or directory (ignored)\n",
      "[NbConvertApp] Converting notebook /home/jovyan/1727/EA5/Aufgaben/SPMV_MPI.ipynb to script\n",
      "[NbConvertApp] Writing 2861 bytes to /home/jovyan/1727/EA5/Aufgaben/SPMV_MPI_results/SPMV_MPI.cpp\n",
      "\n",
      "[jupyterhub-jupyter-oden:13827] mca_base_component_repository_open: unable to open mca_btl_openib: librdmacm.so.1: cannot open shared object file: No such file or directory (ignored)\n",
      " wrong 0 0.000000 0.181079 0.181079\n",
      " wrong 1 0.000000 -0.796525 0.796525\n",
      " wrong 2 0.000000 -1.932052 1.932052\n",
      " wrong 3 0.000000 -2.379426 2.379426\n",
      " wrong 4 0.000000 -0.762533 0.762533\n",
      " wrong 5 0.000000 -1.639509 1.639509\n",
      " wrong 6 0.000000 -1.355645 1.355645\n",
      " wrong 7 0.000000 -0.465676 0.465676\n",
      " wrong 8 0.000000 1.481749 1.481749\n",
      " wrong 9 0.000000 -3.253869 3.253869\n",
      " wrong 10 0.000000 -0.992095 0.992095\n",
      " wrong 11 0.000000 -0.134095 0.134095\n",
      " wrong 12 0.000000 -2.188224 2.188224\n",
      " wrong 13 0.000000 -3.808011 3.808011\n",
      " wrong 14 0.000000 -4.107384 4.107384\n",
      " wrong 15 0.000000 -0.209368 0.209368\n",
      " wrong 16 0.000000 -0.958869 0.958869\n",
      " wrong 17 0.000000 0.349723 0.349723\n",
      " wrong 18 0.000000 0.420630 0.420630\n",
      " wrong 19 0.000000 -0.686559 0.686559\n",
      " wrong 20 0.000000 -0.584790 0.584790\n"
     ]
    }
   ],
   "source": [
    "!mpirun -n 8  /tmp/mpi_SPMV1.x"
   ]
  },
  {
   "cell_type": "code",
   "execution_count": null,
   "id": "2ccaf79e-670a-4344-9b70-d96b767f113d",
   "metadata": {},
   "outputs": [],
   "source": [
    "#include <performance.hpp>"
   ]
  },
  {
   "cell_type": "code",
   "execution_count": 14,
   "id": "b9dd846b-bf60-45cd-ac2a-6d10ca76b58b",
   "metadata": {},
   "outputs": [
    {
     "name": "stdout",
     "output_type": "stream",
     "text": [
      "[NbConvertApp] Converting notebook /home/jovyan/1727/EA5/Aufgaben/SPMV_MPI.ipynb to script\n",
      "[NbConvertApp] Writing 2861 bytes to /home/jovyan/1727/EA5/Aufgaben/SPMV_MPI_results/SPMV_MPI.cpp\n",
      "\n"
     ]
    }
   ],
   "source": [
    "performance p{\"SPMV_MPI.ipynb\"};\n",
    "display::lazy_image timingIm, profilingIm;"
   ]
  },
  {
   "cell_type": "code",
   "execution_count": null,
   "id": "8f4565dc-c5e3-4f14-89e4-77531079fcf3",
   "metadata": {},
   "outputs": [],
   "source": []
  }
 ],
 "metadata": {
  "kernelspec": {
   "display_name": "C++17 (-O3)",
   "language": "C++17",
   "name": "xcpp17"
  },
  "language_info": {
   "codemirror_mode": "text/x-c++src",
   "file_extension": ".cpp",
   "mimetype": "text/x-c++src",
   "name": "c++",
   "version": "17"
  }
 },
 "nbformat": 4,
 "nbformat_minor": 5
}
