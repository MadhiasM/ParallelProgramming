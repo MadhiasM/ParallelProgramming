{
 "cells": [
  {
   "cell_type": "markdown",
   "metadata": {},
   "source": [
    "# Jacobi/Laplace\n",
    "\n"
   ]
  },
  {
   "cell_type": "code",
   "execution_count": null,
   "metadata": {},
   "outputs": [],
   "source": [
    "#include <stdio.h>\n",
    "#include <stdlib.h>\n",
    "#include <math.h>\n",
    "#include <omp.h>\n",
    "\n",
    "#pragma cling load(\"libomp.so\")\n",
    "//Konstanteninitialisierung\n",
    "#define MAX_ITER 100\n",
    "#define EPS 1.0e-4\n",
    "#define init_rand_val 30\n",
    "#define init_val 0"
   ]
  },
  {
   "cell_type": "code",
   "execution_count": null,
   "metadata": {},
   "outputs": [],
   "source": [
    "double one_jacobi_iteration(double *x, double* xnew, int maxn)\n",
    "{\n",
    "double diffnorm=0;\n",
    " for(int i=1; i<maxn-1; i++){\n",
    "        for(int j=1; j<maxn-1; j++){\n",
    "            xnew[i*maxn+j] = 0.25*(x[i*maxn+j+1] + x[i*maxn+j-1] + \n",
    "                                         x[(i+1)*maxn+j] + x[(i-1)*maxn+j]);\n",
    "            diffnorm +=  (xnew[i*maxn+j] - x[i*maxn+j])*(xnew[i*maxn+j] - x[i*maxn+j]);\n",
    "        }\n",
    "    }\n",
    "    return sqrt(diffnorm);\n",
    "}"
   ]
  },
  {
   "cell_type": "code",
   "execution_count": null,
   "metadata": {},
   "outputs": [],
   "source": [
    "void apply_boundary(double *x, double* xnew, int maxn){\n",
    "\n",
    "     for(int i=1; i<maxn-1; i++){\n",
    "         xnew[i]=x[i+(maxn-2)*maxn];\n",
    "         xnew[i+(maxn-1)*maxn]=xnew[i+maxn];\n",
    "     }\n",
    "    for(int i=0; i<maxn; i++){\n",
    "         xnew[i*maxn]=x[i*maxn+maxn-2];\n",
    "         xnew[i*maxn+(maxn-1)]=xnew[i*maxn+1];\n",
    "     }\n",
    "}"
   ]
  },
  {
   "cell_type": "code",
   "execution_count": null,
   "metadata": {},
   "outputs": [],
   "source": [
    "// start_main\n",
    "double *x = NULL;\n",
    "double *xnew = NULL;\n",
    "int itcnt=0;\n",
    "double diffnorm;\n",
    "int n = 16;\n",
    "if(x!=NULL) free(x);\n",
    "if(xnew!=NULL) free(xnew);\n",
    "x = (double*)calloc(n*n, sizeof(double)); \n",
    "xnew = (double*)calloc(n*n, sizeof(double));\n",
    "    for (int i=1; i<n-1; i++){ \n",
    "    //Initlisierung des linken und des rechten Elementen des lokalen Gitters in der Zeile i\n",
    "        x[i*n] = x[i*n+n-1] = init_rand_val;\n",
    "        for (int j=1; j<n-1; j++){\n",
    "            //Initialisierung der inneren Elementen des lokalen Gitters\n",
    "            x[i*n+j] = init_val;\n",
    "    }\n",
    "    }\n",
    "#pragma omp parallel\n",
    "if(omp_get_thread_num()==0)\n",
    "    printf(\"run with %d threads \\n\", omp_get_num_threads());\n",
    "\n",
    "//Initialisierung der ersten und der letzten Zeilen des lokalen Gitters\n",
    "\n",
    "    for (int j=0; j<n; j++) {\n",
    "        x[j] = init_rand_val;\n",
    "        x[(n-1)*n+j] = init_rand_val;\n",
    "   }\n",
    "\n",
    "do{\n",
    "    itcnt++;\n",
    "    diffnorm = one_jacobi_iteration(x,xnew,n);\n",
    "    apply_boundary(x, xnew,n);\n",
    "    double *tmp = x;\n",
    "    x= xnew;\n",
    "    xnew = tmp;\n",
    "    printf(\"Diffnorm %f \\n\" , diffnorm);\n",
    "}while(diffnorm > EPS && itcnt < MAX_ITER);\n",
    "\n",
    "\n",
    "free(x);\n",
    "free(xnew);\n",
    "// end_main"
   ]
  },
  {
   "cell_type": "code",
   "execution_count": null,
   "metadata": {},
   "outputs": [],
   "source": [
    "#include <performance.hpp>"
   ]
  },
  {
   "cell_type": "code",
   "execution_count": null,
   "metadata": {},
   "outputs": [],
   "source": [
    "performance p{\"Laplace_OMP.ipynb\"};\n",
    "display::lazy_image timingIm, profilingIm;"
   ]
  },
  {
   "cell_type": "code",
   "execution_count": null,
   "metadata": {},
   "outputs": [],
   "source": []
  }
 ],
 "metadata": {
  "kernelspec": {
   "display_name": "C++17 (-O3)",
   "language": "C++17",
   "name": "xcpp17"
  },
  "language_info": {
   "codemirror_mode": "text/x-c++src",
   "file_extension": ".cpp",
   "mimetype": "text/x-c++src",
   "name": "c++",
   "version": "17"
  }
 },
 "nbformat": 4,
 "nbformat_minor": 4
}
