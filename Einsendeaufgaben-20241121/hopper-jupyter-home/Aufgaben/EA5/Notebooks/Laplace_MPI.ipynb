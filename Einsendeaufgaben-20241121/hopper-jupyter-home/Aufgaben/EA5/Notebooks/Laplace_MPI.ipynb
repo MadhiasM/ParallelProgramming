{
 "cells": [
  {
   "cell_type": "markdown",
   "metadata": {},
   "source": [
    "# Jacobi/Laplace  mit MPI"
   ]
  },
  {
   "cell_type": "code",
   "execution_count": 1,
   "metadata": {},
   "outputs": [],
   "source": [
    "\n",
    "#include <stdio.h>\n",
    "#include <stdlib.h>\n",
    "#include <math.h>\n",
    "#include <mpi.h>\n",
    "\n",
    "//Konstanteninitialisierung\n",
    "#define MAX_ITER 100\n",
    "#define EPS 1.0e-4\n",
    "#define init_rand_val 30\n",
    "#define init_val 0"
   ]
  },
  {
   "cell_type": "code",
   "execution_count": 2,
   "metadata": {},
   "outputs": [],
   "source": [
    "double one_jacobi_iteration(double *x, double* xnew, int maxn, int n_local)\n",
    "{\n",
    "double diffnorm=0;\n",
    " for(int i=1; i<n_local-1; i++){\n",
    "        for(int j=1; j<maxn-1; j++){\n",
    "            xnew[i*maxn+j] = 0.25*(x[i*maxn+j+1] + x[i*maxn+j-1] + \n",
    "                                         x[(i+1)*maxn+j] + x[(i-1)*maxn+j]);\n",
    "            diffnorm +=  (xnew[i*maxn+j] - x[i*maxn+j])*(xnew[i*maxn+j] - x[i*maxn+j]);\n",
    "        }\n",
    "    }\n",
    "    return diffnorm;\n",
    "}"
   ]
  },
  {
   "cell_type": "code",
   "execution_count": 3,
   "metadata": {},
   "outputs": [],
   "source": [
    "void apply_boundary(double *x, double* xnew, int maxn, int local_n){\n",
    "     for(int i=0; i<local_n-1; i++){\n",
    "         xnew[i*maxn]=x[i*maxn+maxn-2];\n",
    "         xnew[i*maxn+(maxn-1)]=xnew[i*maxn+1];\n",
    "     }\n",
    "}"
   ]
  },
  {
   "cell_type": "code",
   "execution_count": 4,
   "metadata": {},
   "outputs": [],
   "source": [
    "void apply_boundary_single(double *x, double* xnew, int maxn){\n",
    "\n",
    "     for(int i=1; i<maxn-1; i++){\n",
    "         xnew[i]=x[i+(maxn-2)*maxn];\n",
    "         xnew[i+(maxn-1)*maxn]=xnew[i+maxn];\n",
    "     }\n",
    "    for(int i=0; i<maxn; i++){\n",
    "         xnew[i*maxn]=x[i*maxn+maxn-2];\n",
    "         xnew[i*maxn+(maxn-1)]=xnew[i*maxn+1];\n",
    "     }\n",
    "}"
   ]
  },
  {
   "cell_type": "code",
   "execution_count": 5,
   "metadata": {},
   "outputs": [
    {
     "name": "stdout",
     "output_type": "stream",
     "text": [
      "Writing executable to /tmp/mpi_laplace_reflect.x\n"
     ]
    }
   ],
   "source": [
    "%%executable /tmp/mpi_laplace_reflect.x -- -lmpi \n",
    "// start_main\n",
    "MPI_Init(NULL, NULL);\n",
    "int rank, num_p;\n",
    "\n",
    "\n",
    "MPI_Comm_rank(MPI_COMM_WORLD, &rank);\n",
    "MPI_Comm_size(MPI_COMM_WORLD, &num_p);\n",
    "\n",
    "double *x = NULL;\n",
    "double *xnew = NULL;\n",
    "double *xall = NULL;\n",
    "int itcnt=0;\n",
    "double diffnorm;\n",
    "\n",
    "int n = 1024;\n",
    "\n",
    "//Lokale initialisierung, nur auf Rank 0! \n",
    "if(rank == 0) {\n",
    "    if(xall!=NULL) free(xall);\n",
    "    xall = (double*)calloc(n*n, sizeof(double)); \n",
    "    for (int i=1; i<n-1; i++){ \n",
    "    //Initialisierung des linken und des rechten Elementen des lokalen Gitters in der Zeile i\n",
    "        xall[i*n] = xall[i*n+n-1] = init_rand_val;\n",
    "        for (int j=1; j<n-1; j++){\n",
    "            //Initialisierung der inneren Elementen des lokalen Gitters\n",
    "            xall[i*n+j] = init_val;\n",
    "        }\n",
    "    }\n",
    "    //Initialisierung der ersten und der letzten Zeilen des lokalen Gitters\n",
    "    for (int j=0; j<n; j++) {\n",
    "        xall[j] = init_rand_val;\n",
    "        xall[(n-1)*n+j] = init_rand_val;\n",
    "   }\n",
    "}\n",
    "\n",
    "// Verteilung der Daten auf alle Prozesse\n",
    "// Ergänze hier: Berechnung der Lokalen Größe ! \n",
    "//Achtung: Es ist kann sein, dass n%num_procs !=0 ist - daher nachdenekn! \n",
    "\n",
    "int local_n = n;\n",
    "\n",
    "//allocate data and boundaries:\n",
    "if(num_p ==1 ){\n",
    "  local_n = n-2;\n",
    "  x = xall;\n",
    "  xnew = (double*)calloc(n*n, sizeof(double)); \n",
    "}\n",
    "else{\n",
    "    x = (double*)calloc((local_n+2)*n, sizeof(double)); \n",
    "    xnew = (double*)calloc((local_n+2)*n, sizeof(double));\n",
    "}\n",
    "//Ergänzen: Verteilung der Daten von Prozess 0 an die anderen Prozesse! \n",
    "\n",
    "//Tipp: Hier einfach einmal das Feld aufzeichnen um zu Verstehen, welcher Prozess was berechnen soll\n",
    "//und welche Daten er dafür braucht. Das Hilft sehr beim Verständnis! \n",
    "\n",
    "do{\n",
    "    itcnt++;\n",
    "    diffnorm = one_jacobi_iteration(x,xnew,n,local_n+2);\n",
    "  // Hier die Ränder Tauschen. Wenn wir nur einen Prozess haben, müssen auch die Ränder in der y-Richting getauscht werden! \n",
    "    if(num_p == 1)\n",
    "         apply_boundary_single(x, xnew,n);\n",
    "    else \n",
    "        apply_boundary(x, xnew,n, local_n+2);\n",
    "\n",
    "    double *tmp = x;\n",
    "    x= xnew;\n",
    "    xnew = tmp;\n",
    "\n",
    "    // Hier die globale Diffnorm berechnen! \n",
    "    \n",
    "     diffnorm = sqrt(diffnorm);\n",
    "    if(rank==0 && itcnt % 10 == 0)\n",
    "printf(\"Diffnorm %f \\n\", diffnorm);//Sie können die diffnorm verwenden, um zu testen, ob ihr ergebnis richtig ist! \n",
    "}while(itcnt < MAX_ITER);\n",
    " \n",
    "MPI_Finalize();\n",
    "\n",
    "free(x);\n",
    "free(xnew);\n",
    "if(rank ==0  && num_p !=1)\n",
    "    free(xall);\n",
    "return 0;\n",
    "// end_main"
   ]
  },
  {
   "cell_type": "code",
   "execution_count": 6,
   "metadata": {},
   "outputs": [
    {
     "name": "stdout",
     "output_type": "stream",
     "text": [
      "Diffnorm 0.000000 \n",
      "Diffnorm 0.000000 \n",
      "Diffnorm 0.000000 \n",
      "Diffnorm 0.000000 \n",
      "Diffnorm 0.000000 \n",
      "Diffnorm 0.000000 \n",
      "Diffnorm 0.000000 \n",
      "Diffnorm 0.000000 \n",
      "Diffnorm 0.000000 \n",
      "Diffnorm 0.000000 \n"
     ]
    }
   ],
   "source": [
    "!mpirun -n 4 /tmp/mpi_laplace_reflect.x"
   ]
  },
  {
   "cell_type": "code",
   "execution_count": 7,
   "metadata": {},
   "outputs": [
    {
     "name": "stdout",
     "output_type": "stream",
     "text": [
      "Diffnorm 10.809863 \n",
      "Diffnorm 4.418669 \n",
      "Diffnorm 2.642310 \n",
      "Diffnorm 1.838571 \n",
      "Diffnorm 1.388910 \n",
      "Diffnorm 1.104907 \n",
      "Diffnorm 0.910802 \n",
      "Diffnorm 0.770553 \n",
      "Diffnorm 0.664941 \n",
      "Diffnorm 0.582829 \n"
     ]
    }
   ],
   "source": [
    "!mpirun -n 1 /tmp/mpi_laplace_reflect.x"
   ]
  },
  {
   "cell_type": "code",
   "execution_count": null,
   "metadata": {},
   "outputs": [],
   "source": [
    "#include <performance.hpp>"
   ]
  },
  {
   "cell_type": "code",
   "execution_count": 8,
   "metadata": {},
   "outputs": [
    {
     "name": "stdout",
     "output_type": "stream",
     "text": [
      "[NbConvertApp] Converting notebook /home/jovyan/1727/EA5/Aufgaben/Laplace_MPI.ipynb to script\n",
      "[NbConvertApp] Writing 3700 bytes to /home/jovyan/1727/EA5/Aufgaben/Laplace_MPI_results/Laplace_MPI.cpp\n",
      "\n"
     ]
    }
   ],
   "source": [
    "performance p{\"Laplace_MPI.ipynb\"};\n",
    "display::lazy_image timingIm, profilingIm;"
   ]
  }
 ],
 "metadata": {
  "kernelspec": {
   "display_name": "C++17 (-O3)",
   "language": "C++17",
   "name": "xcpp17"
  },
  "language_info": {
   "codemirror_mode": "text/x-c++src",
   "file_extension": ".cpp",
   "mimetype": "text/x-c++src",
   "name": "c++",
   "version": "17"
  }
 },
 "nbformat": 4,
 "nbformat_minor": 4
}
