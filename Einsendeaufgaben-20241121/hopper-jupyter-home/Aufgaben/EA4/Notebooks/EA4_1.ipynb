{
 "cells": [
  {
   "cell_type": "markdown",
   "id": "e282f4ff-5552-4cb9-a01c-70b2d87b4a55",
   "metadata": {},
   "source": [
    "# Ping Pong (und ein paar Erklärungen zur Ausführung des Programms) \n",
    "\n",
    "Wir beginnen mit dem Einfügen von ein paar Headern:"
   ]
  },
  {
   "cell_type": "code",
   "execution_count": 1,
   "id": "e5f8cec3-5ad7-4f3c-b966-725f334929a9",
   "metadata": {},
   "outputs": [],
   "source": [
    "#include <stdio.h>\n",
    "#include <stdlib.h>\n",
    "#include <mpi.h>\n",
    "#define IS_ROOT (rank == 0)"
   ]
  },
  {
   "cell_type": "markdown",
   "id": "32575c48-8c44-4000-8d0f-154fa5674252",
   "metadata": {},
   "source": [
    " MPI-Programme können nicht einfach so aus einer Zelle gestartet werden. Der Grund dafür ist, dass wir bei MPI, im Gegensatz zu OpenMP, parallele Prozesse haben, ein Notebook jedoch nur einen Prozess hat und nicht ohne weiteres eine Zelle parallel durch mehrere Prozesse ausgeführt werden kann. In OpenMP haben wir ja das fork-join Modell, während in MPI die Parallelen Prozesse von Beginn an – und über die gesamte Laufzeit des Programms, existieren.  Es gibt zwar Möglichkeiten, dies mit Hilfe von Python-Multiprozessing zu realisieren, dies hat einen großen Overhead, da diese Prozesse die ganze Zeit idlen würden. Aus diesem Grund verwenden wir das Magic executabl, welches und eine Ausführbare Datei erzeugt (in unserem Beispiel `test.x` (es wird Quasi das Nodebook kompiliert). Dazu brauchen wir auch die MPI-Bibliothek. "
   ]
  },
  {
   "cell_type": "code",
   "execution_count": 2,
   "id": "05ae936c-71e1-45d5-934c-671dea16de2e",
   "metadata": {},
   "outputs": [
    {
     "name": "stdout",
     "output_type": "stream",
     "text": [
      "Writing executable to mpi_pingpong.out\n"
     ]
    }
   ],
   "source": [
    "%%executable mpi_pingpong.out -- -lmpi  \n",
    "// start_main\n",
    "int max=1<<22;\n",
    "MPI_Init(NULL, NULL);\n",
    "int rank, size = 0;\n",
    "MPI_Comm_rank(MPI_COMM_WORLD, &rank);\n",
    "MPI_Comm_size(MPI_COMM_WORLD, &size);\n",
    "\n",
    "char* sendbuf = (char*) malloc(max);\n",
    "char* recvbuf = (char*) malloc(max);\n",
    "double t1,t2;\n",
    "\n",
    "free(sendbuf);\n",
    "free(recvbuf);\n",
    "MPI_Finalize();\n",
    "// end_main"
   ]
  },
  {
   "cell_type": "markdown",
   "id": "7012455d-f1d0-439c-b4f2-d3635e66b855",
   "metadata": {},
   "source": [
    "Dieses Programm können sie jetzt einfach mit mpirun ausführen! Dazu verwenden sie das (!) um zu zeigen, dass es sich um einen Consolen-Befehl handelt."
   ]
  },
  {
   "cell_type": "code",
   "execution_count": 3,
   "id": "e5a4a7d8-efee-405c-b54e-9e142ad019a9",
   "metadata": {},
   "outputs": [],
   "source": [
    "!mpirun -n 2 ./mpi_pingpong.out"
   ]
  },
  {
   "cell_type": "markdown",
   "id": "37e11cf0-a4f8-4b07-8b71-123283767335",
   "metadata": {},
   "source": [
    "Die MCA-Parameter in OpenMPI sind parameter, mit denen sie das MPI Programm steuern können. Um zum Beispiel sicherzugehen, dass shared memory verwendet werden soll, kann man so OpenMPI sagen, dass es den bit-layer \"vader\" nehmen soll, in der hier verwenten Version für shared memory steht [Mehr zu OpenMPI sahred memory](https://docs.open-mpi.org/en/v5.0.x/networking/shared-memory.html)"
   ]
  },
  {
   "cell_type": "code",
   "execution_count": 4,
   "id": "4fd795e0-cb4e-4c09-9091-345e78bbf06b",
   "metadata": {},
   "outputs": [],
   "source": [
    "!mpirun --mca btl vader,self  -np 2 ./mpi_pingpong.out"
   ]
  },
  {
   "cell_type": "markdown",
   "id": "74b2936d-553f-42f7-b733-4b9336754dfc",
   "metadata": {},
   "source": [
    "Alternativ kann man eigentlich immer tcp/ip verwenden. [Mehr dazu](https://docs.open-mpi.org/en/v5.0.x/networking/tcp.html)"
   ]
  },
  {
   "cell_type": "code",
   "execution_count": 5,
   "id": "4e19280f-f7bf-4052-aab4-edf4b53df34a",
   "metadata": {},
   "outputs": [],
   "source": [
    "!mpirun --mca btl tcp,self  -np 2 ./mpi_pingpong.out"
   ]
  }
 ],
 "metadata": {
  "kernelspec": {
   "display_name": "C++17 (-O3)",
   "language": "C++17",
   "name": "xcpp17"
  },
  "language_info": {
   "codemirror_mode": "text/x-c++src",
   "file_extension": ".cpp",
   "mimetype": "text/x-c++src",
   "name": "c++",
   "version": "17"
  }
 },
 "nbformat": 4,
 "nbformat_minor": 5
}
