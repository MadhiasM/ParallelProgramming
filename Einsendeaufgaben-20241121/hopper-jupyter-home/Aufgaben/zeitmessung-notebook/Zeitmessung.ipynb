{
 "cells": [
  {
   "cell_type": "markdown",
   "id": "bb7329b0-e422-4f11-85a2-6abef84629c3",
   "metadata": {},
   "source": [
    "# Zeitmessung\n",
    "Wenn wir über Performance sprechen, spielt die Zeitmessung eine zentrale Rolle. Deshalb ist es entscheidend, die richtige Messmethode auszuwählen. Dabei gibt es verschiedene Aspekte, die zu beachten sind.\n",
    "\n",
    "Die zentralen Fragen lauten:\n",
    "- Was messe ich?\n",
    "- Wie messe ich?\n",
    "  \n",
    "Wir betrachten dazu ein Beispiel zur Vektor-Addition. \n",
    "Wir werfen einen Blick auf das Programm `zeitmessung.c`. Den dazugehörigen Quellcode können Sie ebenfalls einsehen. Dieses Programm führt eine Vektor-Addition aus. Als Erstes kompilieren wir das Programm:\n",
    "\r\n"
   ]
  },
  {
   "cell_type": "code",
   "execution_count": 1,
   "id": "f656d396-da65-43a0-bba3-e1341336c5a1",
   "metadata": {},
   "outputs": [],
   "source": [
    "!clang -o zeit.exe zeitmessung.c "
   ]
  },
  {
   "cell_type": "markdown",
   "id": "bc14d114-74a1-40af-8c56-701d6090804c",
   "metadata": {},
   "source": [
    "Jetzt führen wir das Programm mit dem Bash-Befehl `time` aus und messen damit, wie lange die Ausführung benötigt. Es gibt in der Regel drei Zeiten aus:\n",
    "\n",
    "1. real: Die tatsächliche verstrichene Wanduhrzeit (Wall-Clock-Time), die vom Start bis zum Ende des Programms benötigt wird. Sie kann auch als Gesamtlaufzeit betrachtet werden.\n",
    "\n",
    "2. user: Die gesamte CPU-Zeit, die das Programm in User-Mode verbraucht hat. Dies ist die Zeit, die der Prozess tatsächlich Rechenleistung beansprucht hat.\n",
    "\n",
    "3. sys: Die CPU-Zeit, die das Programm im Kernel-Mode verbraucht hat. Dies ist die Zeit, in der der Kernel Systemaufrufe im Auftrag des Prozesses durchführt."
   ]
  },
  {
   "cell_type": "code",
   "execution_count": 2,
   "id": "55e91e86-b718-43a7-acba-11fe7df9f359",
   "metadata": {},
   "outputs": [
    {
     "name": "stdout",
     "output_type": "stream",
     "text": [
      "\n",
      "real\t0m0.087s\n",
      "user\t0m0.077s\n",
      "sys\t0m0.010s\n"
     ]
    }
   ],
   "source": [
    "!bash -c \"time ./zeit.exe\""
   ]
  },
  {
   "cell_type": "markdown",
   "id": "c9bd92f1-de46-4a46-9803-3ce7f41f4893",
   "metadata": {},
   "source": [
    "Diese Zahlen geben uns bereits einen guten Einblick in die Geschwindigkeit des Programms. Die \"real\"-Zeit ist ein bedeutender Parameter zur Bewertung eines Programms, bezieht aber auch viele Dinge ein, die eine genaue Bewertung des Programmes schwierig machen, vor allem bei kleinen Beispielen.\n",
    "\n",
    "Oftmals, insbesondere bei den kurzen Beispielen, die wir im Kurs behandeln, interessiert uns die Ausführungszeit spezifischer Code-Abschnitte. In solchen Fällen müssen wir den Code instrumentieren und Messpunkte hinzufügen. \n",
    "\n",
    "Wir wollen uns daher das Programm aus dem Beispiel im Detail ansehen und definieren.\n",
    "Hier noch mal alle benötigten Funktionen: "
   ]
  },
  {
   "cell_type": "code",
   "execution_count": 3,
   "id": "73a8227a-64f8-4f00-9a65-7960313a5892",
   "metadata": {},
   "outputs": [],
   "source": [
    "void vector_add_1(double *a, double *b, double *c, int n) {\n",
    "  for (int i = 0; i < n; i++) {\n",
    "    c[i] = a[i] + b[i];\n",
    "  }\n",
    "}\n"
   ]
  },
  {
   "cell_type": "code",
   "execution_count": 4,
   "id": "feb46d80-4245-4ade-b51c-b6ece039ae36",
   "metadata": {},
   "outputs": [],
   "source": [
    "double *a = NULL;\n",
    "double *b = NULL;\n",
    "double *c = NULL;"
   ]
  },
  {
   "cell_type": "markdown",
   "id": "4417a33b-a4be-4596-971e-d6a4f96611fe",
   "metadata": {},
   "source": [
    "Damit wir das Programm ausführen können, müssen wir zunächst den Speicher allozieren und die Daten initialisieren:"
   ]
  },
  {
   "cell_type": "code",
   "execution_count": 5,
   "id": "9c1f77f4-4152-4fdc-85e7-73a7f0f3f5f0",
   "metadata": {},
   "outputs": [],
   "source": [
    "void init(int n) {\n",
    "\n",
    "  a = (double *)calloc(n, sizeof(double));\n",
    "  b = (double *)calloc(n, sizeof(double));\n",
    "  c = (double *)calloc(n, sizeof(double));\n",
    "\n",
    "  for (int i = 0; i < n; i++) {\n",
    "    a[i] = rand() % 10;\n",
    "    b[i] = rand() % 10;\n",
    "    c[i] = 0;\n",
    "  }\n",
    "}"
   ]
  },
  {
   "cell_type": "markdown",
   "id": "2f946975-b144-42ed-9fd8-ce2b0121bfbf",
   "metadata": {},
   "source": [
    "Mit folgender Funktion können wir am Ende alles wieder aufräumen:"
   ]
  },
  {
   "cell_type": "code",
   "execution_count": 6,
   "id": "524d82a3-aa8a-45d7-8ce0-3a1f4db4fd1c",
   "metadata": {},
   "outputs": [],
   "source": [
    "void cleanup() {\n",
    "  if (a) {\n",
    "    free(a);\n",
    "    a = NULL;\n",
    "  }\n",
    "  if (b) {\n",
    "    free(b);\n",
    "    b = NULL;\n",
    "  }\n",
    "  if (c) {\n",
    "    free(c);\n",
    "    c = NULL;\n",
    "  }\n",
    "}"
   ]
  },
  {
   "cell_type": "markdown",
   "id": "0852b06c-981b-43fc-a83d-0184d1e5b1d5",
   "metadata": {},
   "source": [
    "Wir verwenden nun die `CLOCK_MONOTONIC`, um Zeitintervalle zu messen. Diese Uhr gibt eine kontinuierlich ansteigende Zeit seit einem undefinierten Startpunkt (oftmals dem Systemstart) zurück und ist nicht von externen Zeitänderungen beeinflusst. \n",
    "\n",
    "Da unser Hauptinteresse Zeitintervallen gilt, ist diese Art von Uhr für uns ideal. Die Zeit wird in der Struktur `timespec` zurückgegeben, die zwei Werte enthält: Sekunden und Nanosekunden. Um ein Zeitintervall in Mikrosekunden zu berechnen, können wir die folgende Funktion verwenden (der Header `time.h` wird benötigt):"
   ]
  },
  {
   "cell_type": "code",
   "execution_count": 7,
   "id": "2ebd207a-0096-4a2f-a3d1-a95c8dfd65bc",
   "metadata": {},
   "outputs": [],
   "source": [
    "#include <time.h>\n",
    "double timespec_diff_to_milliseconds(struct timespec start,\n",
    "                                     struct timespec end) {\n",
    "  double milliseconds;\n",
    "\n",
    "  milliseconds = double(end.tv_sec - start.tv_sec) *\n",
    "                 1000.0; // Sekunden in Millisekunden umrechnen\n",
    "  milliseconds += double(end.tv_nsec - start.tv_nsec) /\n",
    "                  1000000.0; // Nanosekunden in Millisekunden umrechnen\n",
    "\n",
    "  return milliseconds;\n",
    "}"
   ]
  },
  {
   "cell_type": "markdown",
   "id": "7e888864-fd5f-4e43-88ba-c429e7339833",
   "metadata": {},
   "source": [
    "Nun messen wir einmal die Zeit unseres Programms hier:"
   ]
  },
  {
   "cell_type": "code",
   "execution_count": 8,
   "id": "e0fa33df-aa22-4f96-bda6-07ab1528300b",
   "metadata": {},
   "outputs": [
    {
     "name": "stdout",
     "output_type": "stream",
     "text": [
      "total time is 84.647328 milliseconds\n"
     ]
    }
   ],
   "source": [
    "struct timespec start, end;\n",
    "\n",
    "clock_gettime(CLOCK_MONOTONIC, &start); // Starte Messung\n",
    "\n",
    "int n = 2 << 20;\n",
    "init(n);\n",
    "vector_add_1(a, b, c, n);\n",
    "cleanup();\n",
    "\n",
    "clock_gettime(CLOCK_MONOTONIC, &end); // Beende Messung\n",
    "\n",
    "double time = timespec_diff_to_milliseconds(start, end);\n",
    "printf(\"total time is %f milliseconds\\n\", time);"
   ]
  },
  {
   "cell_type": "markdown",
   "id": "34233d4b-969f-4b45-8e6a-7152cb50a181",
   "metadata": {},
   "source": [
    "Wie wir sehen können, liegt die gemessene Zeit sehr nahe an der zuvor ermittelten real-time, wenn auch etwas geringer. Dies ist darauf zurückzuführen, dass der Overhead für das Laden des Programms entfällt.\n",
    "\n",
    "Bei dieser Messung werden allerdings auch Aspekte wie das Allozieren, Initialisieren und Freigeben von Daten berücksichtigt, die für die Bewertung eines Algorithmus nicht relevant sind. Natürlich sollte dieser Overhead insgesamt nicht außer Acht gelassen werden. \n",
    "\n",
    "Wenn man jedoch primär an der Effizienz eines Algorithmus interessiert ist, sollte man sich auf die Messung dieser spezifischen Zeit konzentrieren. Wir messen daher nun nur die Zeit unserer `vector_add_1` Funktion:"
   ]
  },
  {
   "cell_type": "code",
   "execution_count": 9,
   "id": "702f7a3f-df14-42c7-9d3f-b13b22fe9063",
   "metadata": {},
   "outputs": [
    {
     "name": "stdout",
     "output_type": "stream",
     "text": [
      "total time is 6.195798 milliseconds\n"
     ]
    }
   ],
   "source": [
    "struct timespec start, end;\n",
    "int n = 2 << 20;\n",
    "init(n);\n",
    "\n",
    "clock_gettime(CLOCK_MONOTONIC, &start); // Starte Messung\n",
    "\n",
    "vector_add_1(a, b, c, n);\n",
    "\n",
    "clock_gettime(CLOCK_MONOTONIC, &end); // Beende Messung\n",
    "\n",
    "cleanup();\n",
    "double time = timespec_diff_to_milliseconds(start, end);\n",
    "printf(\"total time is %f milliseconds\\n\", time);"
   ]
  },
  {
   "cell_type": "markdown",
   "id": "d3828d55-0831-49ba-be43-d617cc0b80c3",
   "metadata": {},
   "source": [
    "Wie wir feststellen können, ist die Zahl deutlich geringer als alles bisher Gemessene. Bei einem kleinen Beispiel wie unserem war allerdings zu erwarten, dass dies der Fall sein würde.\n",
    "\n",
    "Wie Sie sicher gemerkt haben, braucht das Programm bei mehrfacher Ausführung unterschiedlich lange. Daher ist es immer sinnvoll, mehrere Messungen zu machen und den Mittelwert zu nehmen.  In anderen Fällen kann es auch sinnvoll sein, den minimalen oder den maximalen Wert zu nehmen. \n",
    "\n",
    "Man kann hier auch entweder das vollständige Programm wiederholen, oder nur die Funktion, die gemessen wurde. Beides hat Vor- und Nachteile. Alles zu wiederholen dauert länger, aber je nach Problemstellung können Cache-Effekte z.B. dazu führen, dass die Ergebnisse verfälscht werden.\n",
    "\n",
    "Folgendes Beispiel initialisiert die Daten nur einmal vor allen Messungen:"
   ]
  },
  {
   "cell_type": "code",
   "execution_count": 10,
   "id": "f305acba-c51b-4b77-b10e-c88714c63d00",
   "metadata": {},
   "outputs": [
    {
     "name": "stdout",
     "output_type": "stream",
     "text": [
      "total time is 6.429560 milliseconds\n"
     ]
    }
   ],
   "source": [
    "struct timespec start, end;\n",
    "double time = 0.0;\n",
    "int repeat = 100;\n",
    "\n",
    "int n = 2 << 20;\n",
    "init(n);\n",
    "for (int i = 0; i < repeat; i++) {\n",
    "  clock_gettime(CLOCK_MONOTONIC, &start); // Starte Messung\n",
    "  vector_add_1(a, b, c, n);\n",
    "  clock_gettime(CLOCK_MONOTONIC, &end); // Beende Messung\n",
    "  time += timespec_diff_to_milliseconds(start, end);\n",
    "}\n",
    "cleanup();\n",
    "\n",
    "printf(\"total time is %f milliseconds\\n\", time / repeat);"
   ]
  },
  {
   "cell_type": "markdown",
   "id": "4ef3c902-30f8-4cd8-8a9e-dac24b6fd4dd",
   "metadata": {},
   "source": [
    "Folgendes Beispiel initialisiert die Daten vor jeder Messung:"
   ]
  },
  {
   "cell_type": "code",
   "execution_count": 11,
   "id": "3675f52c-bc8b-4879-81f2-dfe4cb2e6c83",
   "metadata": {},
   "outputs": [
    {
     "name": "stdout",
     "output_type": "stream",
     "text": [
      "total time is 6.564294 milliseconds\n"
     ]
    }
   ],
   "source": [
    "struct timespec start, end;\n",
    "double time = 0.0;\n",
    "int repeat = 100;\n",
    "\n",
    "int n = 2 << 20;\n",
    "for (int i = 0; i < repeat; i++) {\n",
    "  init(n);\n",
    "  clock_gettime(CLOCK_MONOTONIC, &start); // Starte Messung\n",
    "  vector_add_1(a, b, c, n);\n",
    "  clock_gettime(CLOCK_MONOTONIC, &end); // Beende Messung\n",
    "  time += timespec_diff_to_milliseconds(start, end);\n",
    "  cleanup();\n",
    "}\n",
    "\n",
    "printf(\"total time is %f milliseconds\\n\", time / repeat);\n"
   ]
  },
  {
   "cell_type": "markdown",
   "id": "f18cdf91-ffe5-43cf-a406-a7a2d308894e",
   "metadata": {},
   "source": [
    "Am besten ist eine Mischung aus beiden: "
   ]
  },
  {
   "cell_type": "code",
   "execution_count": 12,
   "id": "f24cd35a-c05f-471a-9b45-d3e8daf42281",
   "metadata": {},
   "outputs": [
    {
     "name": "stdout",
     "output_type": "stream",
     "text": [
      "total time is 6.632488 milliseconds\n"
     ]
    }
   ],
   "source": [
    "struct timespec start, end;\n",
    "double time = 0.0;\n",
    "int repeat = 10;\n",
    "\n",
    "int n = 2 << 20;\n",
    "for (int i = 0; i < repeat; i++) {\n",
    "\n",
    "  init(n);\n",
    "  for (int j = 0; j < repeat; j++) {\n",
    "    clock_gettime(CLOCK_MONOTONIC, &start); // Starte Messung\n",
    "    vector_add_1(a, b, c, n);\n",
    "    clock_gettime(CLOCK_MONOTONIC, &end); // Beende Messung\n",
    "    time += timespec_diff_to_milliseconds(start, end);\n",
    "  }\n",
    "  cleanup();\n",
    "}\n",
    "\n",
    "printf(\"total time is %f milliseconds\\n\", time / (repeat * repeat));"
   ]
  },
  {
   "cell_type": "markdown",
   "id": "86eab1db-e814-45ce-aafe-537ae02af623",
   "metadata": {},
   "source": [
    "Wir betrachten nun die Methoden, die Zeit zu messen. Wir kennen schon die Funktion `clock_gettime`. Diese unterstützt verschiedene Uhren: \n",
    "* CLOCK_REALTIME: Es misst die Wanduhrzeit seit der Ära 1970 (meist als \"Epoch\" bezeichnet, die um 00:00:00 UTC, 1. Januar 1970 beginnt). Die Zeit, die von dieser Uhr gemessen wird, kann aufgrund von NTP-Anpassungen oder anderen manuellen Eingriffen vorwärts oder rückwärts springen.\n",
    "* CLOCK_MONOTONIC: Diese Uhr geht ständig vorwärts und wird nicht von NTP-Anpassungen oder manuellen Zeitänderungen beeinflusst. Sie ist nützlich für Zeitspannen, bei denen ein konstantes Fortschreiten der Zeit erforderlich ist.\n",
    "* CLOCK_PROCESS_CPUTIME_ID: Misst die CPU-Zeit, die vom aktuellen Prozess verbraucht wird. Diese Uhr ist hilfreich, um die CPU-Zeit eines Prozesses und nicht die tatsächlich verstrichene Wanduhrzeit zu messen.\n",
    "* CLOCK_THREAD_CPUTIME_ID: Misst die CPU-Zeit, die vom aktuellen Thread verbraucht wird.\n",
    "\n",
    "Schauen wir uns einmal die Auflösung an:"
   ]
  },
  {
   "cell_type": "code",
   "execution_count": 13,
   "id": "33c027fe-f55b-451a-8f89-414fed5ab80c",
   "metadata": {},
   "outputs": [
    {
     "name": "stdout",
     "output_type": "stream",
     "text": [
      "REALTIME: 0, 1\n",
      "MONOTONIC: 0, 1\n",
      "PROCESS_CPUTIME_ID: 0, 1\n",
      "THREAD_CPUTIME_ID: 0, 1\n"
     ]
    }
   ],
   "source": [
    "struct timespec res, start, end;\n",
    "\n",
    "clock_getres(CLOCK_REALTIME, &res);\n",
    "printf(\"REALTIME: %ld, %ld\\n\", res.tv_sec, res.tv_nsec);\n",
    "clock_getres(CLOCK_MONOTONIC, &res);\n",
    "printf(\"MONOTONIC: %ld, %ld\\n\", res.tv_sec, res.tv_nsec);\n",
    "clock_getres(CLOCK_PROCESS_CPUTIME_ID, &res);\n",
    "printf(\"PROCESS_CPUTIME_ID: %ld, %ld\\n\", res.tv_sec, res.tv_nsec);\n",
    "clock_getres(CLOCK_THREAD_CPUTIME_ID, &res);\n",
    "printf(\"THREAD_CPUTIME_ID: %ld, %ld\\n\", res.tv_sec, res.tv_nsec);"
   ]
  },
  {
   "cell_type": "markdown",
   "id": "124922a4-9ac1-489d-adcf-58870c93c96f",
   "metadata": {},
   "source": [
    "Als Nächstes wollen wir uns den Overhead der Funktionen ansehen. Wir betrachten zudem noch die `clock()` Funktion. Die Rückgabe von `clock()` ist vom Typ `clock_t`, und der Wert repräsentiert die Anzahl der \"Ticks\", die seit dem Programmstart vergangen sind. Der Wert muss durch die Konstante CLOCKS_PER_SEC geteilt werden, um die verstrichene Zeit in Sekunden zu berechnen. \n",
    "\n",
    "Beachten Sie, dass diese Funktion nicht die Wanduhrzeit (d.h. die tatsächliche verstrichene Zeit) misst, sondern nur die CPU-Zeit, die vom Programm verbraucht wurde."
   ]
  },
  {
   "cell_type": "code",
   "execution_count": 14,
   "id": "fb36e6a4-18b7-4993-a01f-ba1a97a7af1e",
   "metadata": {},
   "outputs": [
    {
     "name": "stdout",
     "output_type": "stream",
     "text": [
      "REALTIME took 38 ns\n",
      "MONOTONIC took 33 ns\n",
      "PROCESS CPU took 2548 ns\n",
      "THREAD CPU took 181 ns\n",
      "Clock took 0.000000 ns\n"
     ]
    }
   ],
   "source": [
    "clock_gettime(CLOCK_REALTIME, &start);\n",
    "clock_gettime(CLOCK_REALTIME, &end);\n",
    "printf(\"REALTIME took %ld ns\\n\", end.tv_nsec - start.tv_nsec);\n",
    "\n",
    "clock_gettime(CLOCK_MONOTONIC, &start);\n",
    "clock_gettime(CLOCK_MONOTONIC, &end);\n",
    "printf(\"MONOTONIC took %ld ns\\n\", end.tv_nsec - start.tv_nsec);\n",
    "\n",
    "clock_gettime(CLOCK_PROCESS_CPUTIME_ID, &start);\n",
    "clock_gettime(CLOCK_PROCESS_CPUTIME_ID, &end);\n",
    "printf(\"PROCESS CPU took %ld ns\\n\", end.tv_nsec - start.tv_nsec);\n",
    "\n",
    "clock_gettime(CLOCK_THREAD_CPUTIME_ID, &start);\n",
    "clock_gettime(CLOCK_THREAD_CPUTIME_ID, &end);\n",
    "printf(\"THREAD CPU took %ld ns\\n\", end.tv_nsec - start.tv_nsec);\n",
    "\n",
    "clock_t start_t, end_t;\n",
    "double total_n;\n",
    "start_t = clock();\n",
    "end_t = clock();\n",
    "total_n = (double) (end_t - start_t) / CLOCKS_PER_SEC * 1e9;\n",
    "printf(\"Clock took %lf ns\\n\", total_n);"
   ]
  },
  {
   "cell_type": "markdown",
   "id": "4a5fee30-23a0-44a3-873f-a6c8ec56d869",
   "metadata": {},
   "source": [
    "Wie wir sehen, hat die `clock()` Funktion den geringsten Overhead, zumindest wenn es um die CPU-Zeit geht. Messen wir noch mal unsere Vektor-Funktion: "
   ]
  },
  {
   "cell_type": "code",
   "execution_count": 15,
   "id": "0ec75477-78ec-45f7-aceb-6c26e60194d4",
   "metadata": {},
   "outputs": [
    {
     "name": "stdout",
     "output_type": "stream",
     "text": [
      "REALTIME took 6.459849 ms\n",
      "MONOTONIC took 6.379838 ms\n",
      "CPU_PROCESS took 6.488839 ms\n",
      "THREAD_PROCESS took 6.510846 ms\n",
      "Clock took 6.480900 ms\n"
     ]
    }
   ],
   "source": [
    "n = 2 << 20;\n",
    "cleanup();\n",
    "init(n);\n",
    "vector_add_1(a, b, c, n);\n",
    "\n",
    "repeat = 10;\n",
    "\n",
    "clock_gettime(CLOCK_REALTIME, &start);\n",
    "for (int i = 0; i < repeat; i++) {\n",
    "  vector_add_1(a, b, c, n);\n",
    "}\n",
    "clock_gettime(CLOCK_REALTIME, &end);\n",
    "\n",
    "printf(\"REALTIME took %f ms\\n\",\n",
    "       timespec_diff_to_milliseconds(start, end) / repeat);\n",
    "clock_gettime(CLOCK_MONOTONIC, &start);\n",
    "for (int i = 0; i < repeat; i++) {\n",
    "  vector_add_1(a, b, c, n);\n",
    "}\n",
    "clock_gettime(CLOCK_MONOTONIC, &end);\n",
    "printf(\"MONOTONIC took %f ms\\n\",\n",
    "       timespec_diff_to_milliseconds(start, end) / repeat);\n",
    "\n",
    "clock_gettime(CLOCK_PROCESS_CPUTIME_ID, &start);\n",
    "for (int i = 0; i < repeat; i++) {\n",
    "  vector_add_1(a, b, c, n);\n",
    "}\n",
    "clock_gettime(CLOCK_PROCESS_CPUTIME_ID, &end);\n",
    "\n",
    "printf(\"CPU_PROCESS took %f ms\\n\",\n",
    "       timespec_diff_to_milliseconds(start, end) / repeat);\n",
    "\n",
    "clock_gettime(CLOCK_PROCESS_CPUTIME_ID, &start);\n",
    "for (int i = 0; i < repeat; i++) {\n",
    "  vector_add_1(a, b, c, n);\n",
    "}\n",
    "clock_gettime(CLOCK_PROCESS_CPUTIME_ID, &end);\n",
    "printf(\"THREAD_PROCESS took %f ms\\n\",\n",
    "       timespec_diff_to_milliseconds(start, end) / repeat);\n",
    "\n",
    "clock_t start_t, end_t;\n",
    "\n",
    "start_t = clock();\n",
    "for (int i = 0; i < repeat; i++) {\n",
    "  vector_add_1(a, b, c, n);\n",
    "}\n",
    "end_t = clock();\n",
    "\n",
    "total_n = (double) (end_t - start_t) / CLOCKS_PER_SEC * 1e3;\n",
    "printf(\"Clock took %lf ms\\n\", total_n / repeat);\n",
    "\n",
    "cleanup();\n"
   ]
  },
  {
   "cell_type": "markdown",
   "id": "4b6f0ab8-8e8e-4234-a471-1157b9fb03ac",
   "metadata": {},
   "source": [
    "Die gemessenen Zeiten liegen alle eng beieinander, nur die CPU-Time ist in der Regel etwas geringer.  Nun möchten wir diese Messungen für ein paralleles Programm wiederholen, indem wir die Vektoraddition parallelisieren. Die Details dazu finden Sie in der 3. Kurseinheit. Wichtig für Sie ist, dass die Addition auf vier Threads verteilt wird."
   ]
  },
  {
   "cell_type": "code",
   "execution_count": 16,
   "id": "fe89702c-c955-4eb0-b73a-115409b72fbd",
   "metadata": {},
   "outputs": [],
   "source": [
    "#include <omp.h>\n",
    "#pragma cling load(\"libomp.so\")"
   ]
  },
  {
   "cell_type": "code",
   "execution_count": 17,
   "id": "7ab30efe-8b5c-4617-9c42-0fdaf7a0e6c3",
   "metadata": {},
   "outputs": [],
   "source": [
    "void vector_add_2(double *a, double *b, double *c, int n) {\n",
    "#pragma omp parallel for num_threads(4)\n",
    "  for (int i = 0; i < n; i++) {\n",
    "    c[i] = a[i] + b[i];\n",
    "  }\n",
    "}"
   ]
  },
  {
   "cell_type": "code",
   "execution_count": 18,
   "id": "a8659fe3-106f-479d-a507-683d21a976cb",
   "metadata": {},
   "outputs": [
    {
     "name": "stdout",
     "output_type": "stream",
     "text": [
      "Hello thread 2 of 4 \n",
      "Hello thread 0 of 4 \n",
      "Hello thread 1 of 4 \n",
      "Hello thread 3 of 4 \n"
     ]
    }
   ],
   "source": [
    "#pragma omp parallel num_threads(4)\n",
    "printf(\"Hello thread %d of %d \\n\", omp_get_thread_num(), omp_get_num_threads());"
   ]
  },
  {
   "cell_type": "code",
   "execution_count": 19,
   "id": "820cb953-3819-4f4d-a967-ec9b485ada9f",
   "metadata": {},
   "outputs": [
    {
     "name": "stdout",
     "output_type": "stream",
     "text": [
      "REALTIME took 1.904912 ms\n",
      "MONOTONIC took 1.853533 ms\n",
      "CPU_PROCESS took 7.003647 ms\n",
      "THREAD_PROCESS took 6.948687 ms\n",
      "Clock took 7.100700 ms\n"
     ]
    }
   ],
   "source": [
    "n = 2 << 20;\n",
    "cleanup();\n",
    "init(n);\n",
    "vector_add_2(a, b, c, n);\n",
    "\n",
    "repeat = 10;\n",
    "\n",
    "clock_gettime(CLOCK_REALTIME, &start);\n",
    "for (int i = 0; i < repeat; i++) {\n",
    "  vector_add_2(a, b, c, n);\n",
    "}\n",
    "clock_gettime(CLOCK_REALTIME, &end);\n",
    "printf(\"REALTIME took %f ms\\n\",\n",
    "       timespec_diff_to_milliseconds(start, end) / repeat);\n",
    "\n",
    "clock_gettime(CLOCK_MONOTONIC, &start);\n",
    "for (int i = 0; i < repeat; i++) {\n",
    "  vector_add_2(a, b, c, n);\n",
    "}\n",
    "clock_gettime(CLOCK_MONOTONIC, &end);\n",
    "printf(\"MONOTONIC took %f ms\\n\",\n",
    "       timespec_diff_to_milliseconds(start, end) / repeat);\n",
    "\n",
    "clock_gettime(CLOCK_PROCESS_CPUTIME_ID, &start);\n",
    "for (int i = 0; i < repeat; i++) {\n",
    "  vector_add_2(a, b, c, n);\n",
    "}\n",
    "clock_gettime(CLOCK_PROCESS_CPUTIME_ID, &end);\n",
    "printf(\"CPU_PROCESS took %f ms\\n\",\n",
    "       timespec_diff_to_milliseconds(start, end) / repeat);\n",
    "\n",
    "clock_gettime(CLOCK_PROCESS_CPUTIME_ID, &start);\n",
    "for (int i = 0; i < repeat; i++) {\n",
    "  vector_add_2(a, b, c, n);\n",
    "}\n",
    "clock_gettime(CLOCK_PROCESS_CPUTIME_ID, &end);\n",
    "printf(\"THREAD_PROCESS took %f ms\\n\",\n",
    "       timespec_diff_to_milliseconds(start, end) / repeat);\n",
    "\n",
    "clock_t start_t, end_t;\n",
    "double total_n;\n",
    "start_t = clock();\n",
    "for (int i = 0; i < repeat; i++) {\n",
    "  vector_add_2(a, b, c, n);\n",
    "}\n",
    "end_t = clock();\n",
    "total_n = (double) (end_t - start_t) / CLOCKS_PER_SEC * 1e3;\n",
    "printf(\"Clock took %lf ms\\n\", total_n / repeat);"
   ]
  },
  {
   "cell_type": "markdown",
   "id": "e23322bd-6822-4fab-9229-390aa6948db5",
   "metadata": {},
   "source": [
    "Wie wir sehen können, messen wir unterschiedliche Zeiten. Aber welche Zeit ist nun die \"richtige\"?\n",
    "Das hängt von der Perspektive ab. \n",
    "\n",
    "Wenn wir an der Wanduhrzeit (\"Wall-Time\") interessiert sind, also wie lange die Berechnung tatsächlich in Echtzeit gedauert hat, dann ist die MONOTONIC-Clock die zuverlässigste Wahl.\n",
    "\n",
    "Die Zeit, die mit clock() gemessen wurde, hat eine andere Bedeutung. Sie gibt an, wie viele CPU-Zyklen für die Berechnung verwendet wurden. Im Idealfall nutzen wir jedoch vier CPU-Kerne für die Berechnung. Aufgrund des Overheads wird dieser Wert also vermutlich höher ausfallen.\n",
    "PROCESS_CPUTIME und THREAD_CPUTIME sollten Sie bei parallelen Programmen nicht verwenden.\n",
    "\n",
    "Am sinnvollsten ist es, die durch das Framework bereitgestellten Timer zu nutzen."
   ]
  }
 ],
 "metadata": {
  "kernelspec": {
   "display_name": "C++17",
   "language": "C++17",
   "name": "xcpp17"
  },
  "language_info": {
   "codemirror_mode": "text/x-c++src",
   "file_extension": ".cpp",
   "mimetype": "text/x-c++src",
   "name": "c++",
   "version": "17"
  }
 },
 "nbformat": 4,
 "nbformat_minor": 5
}
