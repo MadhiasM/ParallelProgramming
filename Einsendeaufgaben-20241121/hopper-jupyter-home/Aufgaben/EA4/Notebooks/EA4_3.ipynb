{
 "cells": [
  {
   "cell_type": "code",
   "execution_count": 1,
   "id": "02935da3-a792-45a1-847b-148b1bd3a0fc",
   "metadata": {},
   "outputs": [],
   "source": [
    "#include <stdio.h>\n",
    "#include <stdlib.h>\n",
    "#include <mpi.h>\n",
    "#include <cmath>\n",
    "#define IS_ROOT (rank == 0)"
   ]
  },
  {
   "cell_type": "code",
   "execution_count": 2,
   "id": "bb5fe229-a8b1-4b3b-9c8c-51414b7facb1",
   "metadata": {},
   "outputs": [],
   "source": [
    "int TestForPrime(int val)\n",
    "{\n",
    "    int limit, factor = 3;\n",
    "\n",
    "    limit = (long)(sqrtf((float)val)+0.5f);\n",
    "    while( (factor <= limit) && (val % factor))\n",
    "        factor ++;\n",
    "\n",
    "    return (factor > limit);\n",
    "}"
   ]
  },
  {
   "cell_type": "code",
   "execution_count": 3,
   "id": "31fb6bbb-4e41-4e83-96c2-3736358b8ea7",
   "metadata": {},
   "outputs": [],
   "source": [
    "\n",
    "#define MIN(X, Y) (((X) < (Y)) ? (X) : (Y))"
   ]
  },
  {
   "cell_type": "code",
   "execution_count": 4,
   "id": "bd6b2be9-b1d9-43e8-940a-34f43583f803",
   "metadata": {},
   "outputs": [
    {
     "name": "stdout",
     "output_type": "stream",
     "text": [
      "Writing executable to test.x\n"
     ]
    }
   ],
   "source": [
    "%%executable test.x -- -lmpi    \n",
    "\n",
    "// start_main\n",
    "MPI_Init(NULL, NULL);\n",
    "int rank, world_size;\n",
    "MPI_Comm_size(MPI_COMM_WORLD, &world_size);\n",
    "MPI_Comm_rank(MPI_COMM_WORLD, &rank);\n",
    "int n = (1<<11)+1;\n",
    "int start = 3;\n",
    "int end = n;\n",
    "int *Primes; \n",
    "MPI_Status status;\n",
    "\n",
    "MPI_Barrier(MPI_COMM_WORLD); //for timing and tracing\n",
    "\n",
    "// start_timing\n",
    "if (world_size==1) {\n",
    "    int PrimesFound = 0;\n",
    "    Primes=(int*) malloc(n/4*sizeof(int));//sollte genug Platz für alle sein\n",
    "   for( int i = start; i <= end; i += 2 )\n",
    "    {\n",
    "       if( TestForPrime(i) )\n",
    "       {\n",
    "           Primes[PrimesFound++] = i; \n",
    "       }\n",
    "    }\n",
    "     printf(\"Found %d Prime numbers \\n\", PrimesFound);\n",
    "}\n",
    "else{\n",
    "  //Ad code here! \n",
    "}\n",
    "// end_timing\n",
    "\n",
    "MPI_Finalize();\n",
    "// end_main"
   ]
  },
  {
   "cell_type": "code",
   "execution_count": 5,
   "id": "8caa851a-2037-4ff4-a71e-95baa1ba51b5",
   "metadata": {},
   "outputs": [],
   "source": [
    "!mpirun -n 4 ./test.x"
   ]
  },
  {
   "cell_type": "code",
   "execution_count": 6,
   "id": "198b928a-8e27-41dc-b19a-af0c8ed3ce13",
   "metadata": {},
   "outputs": [
    {
     "name": "stdout",
     "output_type": "stream",
     "text": [
      "Found 308 Prime numbers \n"
     ]
    }
   ],
   "source": [
    "!mpirun -n 1 ./test.x"
   ]
  },
  {
   "cell_type": "code",
   "execution_count": null,
   "id": "df1669ef-88fc-4d15-b31e-8ca3542f910a",
   "metadata": {},
   "outputs": [],
   "source": [
    "#include <performance.hpp>"
   ]
  },
  {
   "cell_type": "code",
   "execution_count": 8,
   "id": "5dd8bfa5-e13c-42aa-ad12-ef20397c2565",
   "metadata": {},
   "outputs": [
    {
     "name": "stdout",
     "output_type": "stream",
     "text": [
      "[NbConvertApp] Converting notebook /home/jovyan/1727/EA4/Ausfgaben/EA4_3.ipynb to script\n",
      "[NbConvertApp] Writing 1520 bytes to /home/jovyan/1727/EA4/Ausfgaben/EA4_3_results/EA4_3.cpp\n",
      "\n"
     ]
    }
   ],
   "source": [
    "performance p{\"EA4_3.ipynb\"};"
   ]
  }
 ],
 "metadata": {
  "kernelspec": {
   "display_name": "C++17 (-O3)",
   "language": "C++17",
   "name": "xcpp17"
  },
  "language_info": {
   "codemirror_mode": "text/x-c++src",
   "file_extension": ".cpp",
   "mimetype": "text/x-c++src",
   "name": "c++",
   "version": "17"
  }
 },
 "nbformat": 4,
 "nbformat_minor": 5
}
