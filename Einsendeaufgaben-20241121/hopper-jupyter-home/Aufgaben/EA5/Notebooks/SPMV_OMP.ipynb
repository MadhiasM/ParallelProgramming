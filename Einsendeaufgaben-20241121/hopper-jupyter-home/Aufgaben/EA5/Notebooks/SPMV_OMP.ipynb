{
 "cells": [
  {
   "cell_type": "code",
   "execution_count": 1,
   "id": "1f948181-256f-4a45-a2d0-5c202b2b0093",
   "metadata": {},
   "outputs": [],
   "source": [
    "#include <iostream>\n",
    "#include <omp.h>\n",
    "#include <stdio.h>\n",
    "#include <math.h>\n",
    "#include <stdlib.h>\n",
    "#include \"csr_formatter.h\" \n",
    "#include <functional>\n",
    "#include <string>\n",
    "#pragma cling load(\"libomp.so\")\n",
    "#define ABS(a) ((a) >0 ? (a) :-(a))\n"
   ]
  },
  {
   "cell_type": "markdown",
   "id": "4f0acd60-c5a9-4de1-a1d0-aa19cde47380",
   "metadata": {},
   "source": [
    "*Hinweis* Wie nehmen hier die Performance-Klasse um schöne Bilder zu bekommen, das war in der Aufgabe nicht gefordert! "
   ]
  },
  {
   "cell_type": "code",
   "execution_count": 2,
   "id": "a695221f-332e-4d94-90d2-48b94c39e0b6",
   "metadata": {},
   "outputs": [],
   "source": [
    "double randfrom(double min, double max) \n",
    "{\n",
    "    double range = (max - min); \n",
    "    double div = RAND_MAX / range;\n",
    "    return min + (rand() / div);\n",
    "}"
   ]
  },
  {
   "cell_type": "code",
   "execution_count": 3,
   "id": "7e509356-8d9e-4fad-88e4-5de8872390f8",
   "metadata": {},
   "outputs": [],
   "source": [
    "void SpMV_dynamic(double *data, int *cols, int *rowptr, int n, double *b, double *c){\n",
    " \n",
    "}"
   ]
  },
  {
   "cell_type": "code",
   "execution_count": 4,
   "id": "d526573b-5857-4463-b8db-6e12f5449718",
   "metadata": {},
   "outputs": [],
   "source": [
    "void SpMV_static(double *data, int *cols, int *rowptr, int n, double *b, double *c){\n",
    " \n",
    "    \n",
    "}"
   ]
  },
  {
   "cell_type": "code",
   "execution_count": 5,
   "id": "d5e8346c-9537-4c6a-b251-641f89585694",
   "metadata": {},
   "outputs": [],
   "source": [
    "//Für den Vergleich die Klassiche Berechnung\n",
    "void DMV(double *data, int n, int k, double *b, double *c){\n",
    "    #pragma omp parallel for\n",
    "  for(int i = 0; i<n; i++){\n",
    "      double tmp=0;\n",
    "      for(int j=0; j<k; j++){\n",
    "          tmp+=data[i*k+j]*b[j];\n",
    "         \n",
    "      }\n",
    "      c[i]=tmp;\n",
    "  }  \n",
    "}"
   ]
  },
  {
   "cell_type": "code",
   "execution_count": 6,
   "id": "4e99ae2e-b8cc-4812-ac6f-60c797c075f4",
   "metadata": {},
   "outputs": [],
   "source": [
    "std:: string choose_file(int n){\n",
    "if (n==0)\n",
    "     return \"../data/c-22.mtx\";\n",
    " if (n==1)\n",
    "     return \"../data/parabolic_fem.mtx\";\n",
    "else if (n==2) \n",
    "    return \"../data/nxp1.mtx\";\n",
    "else if (n==3)\n",
    "     return \"../data/bundle_adj.mtx\";\n",
    "else if( n==4) \n",
    "    return \"../data/ss.mtx\";\n",
    "else return \"\";\n",
    "}"
   ]
  },
  {
   "cell_type": "code",
   "execution_count": 7,
   "id": "0b16837b-b139-441a-a1fc-744fba80a73f",
   "metadata": {},
   "outputs": [
    {
     "name": "stdout",
     "output_type": "stream",
     "text": [
      "run 64 threads \n",
      " wrong 0 0.000000 -14.446873 14.446873\n",
      " wrong 1 0.000000 -93.465367 93.465367\n",
      " wrong 2 0.000000 -353.351235 353.351235\n",
      " wrong 3 0.000000 -89.587115 89.587115\n",
      " wrong 4 0.000000 244.356516 244.356516\n",
      " wrong 5 0.000000 -193.863940 193.863940\n",
      " wrong 6 0.000000 -120.599958 120.599958\n",
      " wrong 7 0.000000 -103.070848 103.070848\n",
      " wrong 8 0.000000 -224.692350 224.692350\n",
      " wrong 9 0.000000 -138.247468 138.247468\n",
      " wrong 10 0.000000 -104.539393 104.539393\n",
      " wrong 11 0.000000 -10.750699 10.750699\n",
      " wrong 12 0.000000 -344.248185 344.248185\n",
      " wrong 13 0.000000 -293.209320 293.209320\n",
      " wrong 14 0.000000 400.329251 400.329251\n",
      " wrong 15 0.000000 -296.478078 296.478078\n",
      " wrong 16 0.000000 -193.594028 193.594028\n",
      " wrong 17 0.000000 -207.633937 207.633937\n",
      " wrong 18 0.000000 -88.818549 88.818549\n",
      " wrong 19 0.000000 -142.602993 142.602993\n",
      " wrong 20 90949239240607644985424205300547426732647998218624405357982089477280919070135993125877557040195798290524623895593700270545250155759535876168875758456104356138165778143381581832038288019431465330525057907889893045002859184128.000000 -87.386092 90949239240607644985424205300547426732647998218624405357982089477280919070135993125877557040195798290524623895593700270545250155759535876168875758456104356138165778143381581832038288019431465330525057907889893045002859184128.000000\n"
     ]
    }
   ],
   "source": [
    "// start_main\n",
    "CSR* Mat;\n",
    "double t2,t1;\n",
    "int n = 0;\n",
    "Mat = assemble_csr_matrix(choose_file(n));\n",
    "double* b = (double*)malloc(Mat->N*sizeof(double));\n",
    "double* c = (double*)malloc(Mat->M*sizeof(double));\n",
    "for(int i=0; i<Mat->N; i++) {\n",
    "    b[i]=randfrom(-100, 100);   \n",
    "}\n",
    "#pragma omp parallel\n",
    "{\n",
    "if(omp_get_thread_num()==0)\n",
    "    printf(\"run %d threads \\n\", omp_get_num_threads());\n",
    "\n",
    "}\n",
    "\n",
    "SpMV_static(Mat->val, Mat->col_ind, Mat->row_ptr, Mat->N, b, c);\n",
    "\n",
    "SpMV_dynamic(Mat->val, Mat->col_ind, Mat->row_ptr, Mat->N, b, c);\n",
    "\n",
    "\n",
    "\n",
    "if(Mat->N < (1<<15)) {\n",
    "//Achtung, nur bei kleinen Dense Martizen ausführen, für den Vergleich\n",
    "     double * m=  generate_dense_matrix(Mat);\n",
    "    double* c2 = (double*)malloc(Mat->M*sizeof(double));\n",
    "DMV(m, Mat->N, Mat->M, b, c2);\n",
    "int p =0;\n",
    "for (int i=0; i<Mat->N; i++) {\n",
    "   if(ABS(c[i]-c2[i])>1e-4) {printf(\" wrong %d %f %f %f\\n\",i,c[i],c2[i], ABS(c[i]-c2[i]));p++; if(p>20) break; }\n",
    "}\n",
    "    if(p==0)\n",
    "        printf(\"result is correct\\n\");\n",
    "\n",
    " free(m);\n",
    " free(c2);\n",
    "}\n",
    "free_CSR(Mat);\n",
    "free(Mat);\n",
    "// end_main"
   ]
  },
  {
   "cell_type": "code",
   "execution_count": null,
   "id": "fcfe8b5c-6601-47a2-ac5e-e07b98e2dc40",
   "metadata": {},
   "outputs": [],
   "source": [
    "#include <performance.hpp>"
   ]
  },
  {
   "cell_type": "code",
   "execution_count": 8,
   "id": "3a260dd6-66bc-4cb5-a97d-1140ac022581",
   "metadata": {},
   "outputs": [
    {
     "name": "stdout",
     "output_type": "stream",
     "text": [
      "[NbConvertApp] Converting notebook /home/jovyan/1727/EA5/Aufgaben/SPMV_OMP.ipynb to script\n",
      "[NbConvertApp] Writing 2177 bytes to /home/jovyan/1727/EA5/Aufgaben/SPMV_OMP_results/SPMV_OMP.cpp\n",
      "\n"
     ]
    }
   ],
   "source": [
    "performance p{\"SPMV_OMP.ipynb\"};\n",
    "display::lazy_image timingIm, profilingIm;"
   ]
  },
  {
   "cell_type": "code",
   "execution_count": null,
   "id": "ce4f0cf1-0bf9-42ba-919f-51b3be013962",
   "metadata": {},
   "outputs": [],
   "source": []
  }
 ],
 "metadata": {
  "kernelspec": {
   "display_name": "C++17 (-O3)",
   "language": "C++17",
   "name": "xcpp17"
  },
  "language_info": {
   "codemirror_mode": "text/x-c++src",
   "file_extension": ".cpp",
   "mimetype": "text/x-c++src",
   "name": "c++",
   "version": "17"
  }
 },
 "nbformat": 4,
 "nbformat_minor": 5
}
