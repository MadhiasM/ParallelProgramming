{
 "cells": [
  {
   "cell_type": "markdown",
   "metadata": {},
   "source": [
    "# EA3, Aufgabe 1,  Parallelisierung von Pi"
   ]
  },
  {
   "cell_type": "markdown",
   "metadata": {},
   "source": [
    "Sei $f(x) = \\frac{4}{1 + x^2}$\n",
    "\n",
    "Aus Mathematik wissen wir, dass $\\int\\limits_0^1 f(x) dx = \\pi$ gilt.\n",
    "\n",
    "Annähernd kann dieser Wert als die folgende Summe ausgerechnet werden:\n",
    "\n",
    "$\\sum_{i=0}^nf(x_i)\\Delta x \\approx \\pi$\n",
    "\n",
    "Wobei $f(x_i)\\Delta x $ die Fläche der Rechtecke mit Breite $\\Delta x $ und Höhe $f(x_i)$.\n",
    "\n",
    "\n"
   ]
  },
  {
   "cell_type": "markdown",
   "metadata": {},
   "source": [
    "Parallelisieren Sie die folgende Funktion zur Berechnung von Pi. \n",
    "    \n",
    "**Bemerkung:** stellen Sie sicher, dass Ihrer Code kein data race verursacht (d.h. alle gemeinsame Variable sind von nicht synchronizierten Zugriffen von mehreren Threads geschützt). Denken Sie auch daran, dass pi=3,141592653589 ist. "
   ]
  },
  {
   "cell_type": "code",
   "execution_count": 1,
   "metadata": {},
   "outputs": [],
   "source": [
    "#include <omp.h>\n",
    "#include <stdio.h>\n",
    "#include <math.h>\n",
    "#include <stdlib.h>\n",
    "#include <cstdio>\n",
    "\n",
    "#pragma cling load(\"libomp.so\")\n",
    "#define MAXN 2147483647"
   ]
  },
  {
   "cell_type": "markdown",
   "metadata": {},
   "source": [
    "Definition der Funktion $f(x)$ "
   ]
  },
  {
   "cell_type": "code",
   "execution_count": 2,
   "metadata": {},
   "outputs": [],
   "source": [
    "double f(double x){\n",
    "    return 4.0/(1+x*x);\n",
    "}"
   ]
  },
  {
   "cell_type": "markdown",
   "metadata": {},
   "source": [
    "Berechnet die Fläche unter der Kurve der Funktion `f(x) = 4/(1+x^2)`, die näherungsweise dem Wert von Pi entspricht.\n",
    "    `@param int n `  enstpricht der Anzahl der Rechtecke."
   ]
  },
  {
   "cell_type": "code",
   "execution_count": 3,
   "metadata": {},
   "outputs": [],
   "source": [
    "\n",
    "\n",
    "double CalcPi(int n){\n",
    "    //berechne die Fläche der Rechtecke\n",
    "    if (n <= 0 || n > MAXN){\n",
    "        return 0.0;\n",
    "    }\n",
    "    const double fH   = 1.0 / (double) n;\n",
    "    \n",
    "    //initialisiere die Summe der Funktionswerte\n",
    "    double fSum = 0.0;\n",
    "    double fX;\n",
    "    //int i;\n",
    "    \n",
    "    for (int i = 0; i < n; i += 1)\n",
    "    {\n",
    "        fX = fH * ((double)i + 0.5);\n",
    "        fSum += f(fX);\n",
    "    }\n",
    "    return fH * fSum;\n",
    "}"
   ]
  },
  {
   "cell_type": "markdown",
   "metadata": {},
   "source": [
    "## Benchmarking"
   ]
  },
  {
   "cell_type": "code",
   "execution_count": 4,
   "metadata": {},
   "outputs": [
    {
     "name": "stdout",
     "output_type": "stream",
     "text": [
      "Pi is 3.141674 \n"
     ]
    },
    {
     "data": {
      "text/plain": [
       "16"
      ]
     },
     "execution_count": 4,
     "metadata": {},
     "output_type": "execute_result"
    }
   ],
   "source": [
    "// start_main\n",
    "int n = 32;\n",
    "double pi = CalcPi( n);\n",
    "printf(\"Pi is %f \\n\", pi); \n",
    "// end_main"
   ]
  },
  {
   "cell_type": "code",
   "execution_count": null,
   "metadata": {},
   "outputs": [],
   "source": [
    "#include <performance.hpp>"
   ]
  },
  {
   "cell_type": "code",
   "execution_count": 5,
   "metadata": {},
   "outputs": [
    {
     "name": "stdout",
     "output_type": "stream",
     "text": [
      "[NbConvertApp] Converting notebook /home/jovyan/materials/Aufgaben/EA3/Notebooks/EA3_1.ipynb to script\n",
      "[NbConvertApp] Writing 912 bytes to /home/jovyan/materials/Aufgaben/EA3/Notebooks/EA3_1_results/EA3_1.cpp\n",
      "\n"
     ]
    }
   ],
   "source": [
    "performance p(\"EA3_1.ipynb\");"
   ]
  },
  {
   "cell_type": "code",
   "execution_count": 6,
   "metadata": {},
   "outputs": [
    {
     "name": "stdout",
     "output_type": "stream",
     "text": [
      "\n",
      "This tool integrates performance analysis into Jupyter notebooks.\n",
      "\n",
      "Given a Jupyter Notebook or a C/C++ file containing a cell with a piece of code enclosed between\n",
      "\"// start_main\" and \"// end_main\", it provides the following functionality\n",
      "\n",
      "1. Convert the notebook into a C++ file.\n",
      "2. Compile and execute the input file.\n",
      "3. Perform timing, profiling or tracing analysis.\n",
      "4. Visualize results.\n",
      "\n",
      "-----\n",
      "Usage\n",
      "-----\n",
      "To use the tool, the user must create an object of the class.\n",
      "An object is created by calling the constructor. This can be done as follows.\n",
      "\n",
      "performance(std::string input_file_path,\n",
      "            std::string execution_model = \"\",\n",
      "            bool debug = false)\n",
      "\n",
      "\n",
      "input_file_path supports the following extensions: .c, .cpp, or .ipynb.\n",
      "The available execution models are:\n",
      "- \"mpi\"\n",
      "- \"openmp\"\n",
      "- \"hybrid\" (number_of_threads is 2)\n",
      "- \"serial\"\n",
      "\n",
      "---------------\n",
      "Timing Analysis\n",
      "---------------\n",
      "display::lazy_image display_timing(std::vector<int> number_of_execution_units,\n",
      "                                   std::vector<int> problem_size,\n",
      "                                   int iterations_per_parameter_pair = 10,\n",
      "                                   std::string compiler_flags = \"-O3\",\n",
      "                                   bool cputime = false) {\n",
      "\n",
      "Perform a timing analysis on a piece of code enclosed by timing markers.\n",
      "Available timing markers:\n",
      "- \"// start_timing\" and \"// end_timing\"\n",
      "- \"// start_init\" and \"// end_init\"\n",
      "- \"// start_compute\" and \"// end_compute\"\n",
      "- \"// start_check\" and \"// end_check\"\n",
      "- \"// start_cleanup\" and \"// end_cleanup\"\n",
      "\n",
      "------------------\n",
      "Profiling Analysis\n",
      "------------------\n",
      "display::lazy_image display_profiling(int number_of_execution_units = 2,\n",
      "                                      std::string metric = \"time\",\n",
      "                                      std::string compiler_flags = \"-O3\")\n",
      "\n",
      "void print_call_tree(int number_of_execution_units = 2,\n",
      "                     std::string metric = \"time\",\n",
      "                     std::string compiler_flags = \"-O3\") {\n",
      "\n",
      "Available metrics:\n",
      "- \"time\": Display the amount of time that each process/thread has spent in each function.\n",
      "- \"visits\": Display the number of times each process/thread has visited each function in the source file.\n",
      "- \"min_time\": Display the minimal amount of time that each process/thread has spent in each function.\n",
      "- \"max_time\": Display the maximal amount of time that each process/thread has spent in each function.\n",
      "- \"bytes_put\": Display the number of bytes transferred by each execution unit using the MPI_Put RMA operation.\n",
      "- \"bytes_get\": Display the number of bytes transferred by each execution unit using the MPI_Get RMA operation.\n",
      "- \"io_bytes_read\": Display the number of IO bytes read by each execution unit.\n",
      "- \"io_bytes_written\": Display the number of IO bytes written by each execution unit.\n",
      "\n",
      "----------------\n",
      "Tracing Analysis\n",
      "----------------\n",
      "display::lazy_image display_tracing(int number_of_execution_units = 4,\n",
      "                                    std::string compiler_flags = \"-O3\") {\n",
      "\n",
      "----------------------------------\n",
      "Vectorization Analysis\n",
      "----------------------------------\n",
      "void print_compiler_optimization(std::string compiler_flags = \"-O3\")\n",
      "\n"
     ]
    }
   ],
   "source": [
    "p.help();"
   ]
  },
  {
   "cell_type": "code",
   "execution_count": null,
   "metadata": {},
   "outputs": [],
   "source": []
  }
 ],
 "metadata": {
  "kernelspec": {
   "display_name": "C++17 (-O3)",
   "language": "C++17",
   "name": "xcpp17"
  },
  "language_info": {
   "codemirror_mode": "text/x-c++src",
   "file_extension": ".cpp",
   "mimetype": "text/x-c++src",
   "name": "c++",
   "version": "17"
  }
 },
 "nbformat": 4,
 "nbformat_minor": 4
}
