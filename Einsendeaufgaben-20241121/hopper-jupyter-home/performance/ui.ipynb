{
 "cells": [
  {
   "cell_type": "markdown",
   "id": "a86b5892-b906-4a42-a990-5b75042a52d0",
   "metadata": {},
   "source": [
    "The cell below should run automatically."
   ]
  },
  {
   "cell_type": "code",
   "execution_count": null,
   "id": "2f274581-f2a5-4eca-9877-ac2c5a6b3a85",
   "metadata": {
    "jupyter": {
     "source_hidden": true
    }
   },
   "outputs": [],
   "source": [
    "import os\n",
    "\n",
    "os.environ[\"SESSION\"] = __session__\n",
    "import ui\n",
    "import importlib\n",
    "\n",
    "importlib.reload(ui)\n",
    "ui.main_widget"
   ]
  },
  {
   "cell_type": "code",
   "execution_count": null,
   "id": "92a3321e-93d7-4884-b472-92ee2a678e7a",
   "metadata": {},
   "outputs": [],
   "source": [
    "# Python API objects are available in this notebook\n",
    "from ui import *\n",
    "\n",
    "\n",
    "def show_plot():\n",
    "    import holoviews as hv\n",
    "\n",
    "    hv.extension(\"bokeh\", logo=False)\n",
    "    display(plot)\n",
    "\n",
    "\n",
    "def explore_timing_dataframe():\n",
    "    # https://hvplot.holoviz.org/user_guide/Explorer.html\n",
    "    import hvplot.pandas\n",
    "\n",
    "    hvexplorer = df.to_pandas().hvplot.explorer()\n",
    "    return hvexplorer\n",
    "\n",
    "\n",
    "def show_timing_for_each_iteration():\n",
    "    return df.hvplot(\n",
    "        groupby=[\"Number of Execution Units\", \"Problem Size\"],\n",
    "        kind=\"line\",\n",
    "        x=\"Iteration\",\n",
    "        y=[\"Time (s)\"],\n",
    "        by=[\"Marker\"],\n",
    "        widget_location=\"top\",\n",
    "    )\n",
    "\n",
    "\n",
    "def show_timing_histogram():\n",
    "    return df.hvplot(\n",
    "        alpha=0.5,\n",
    "        by=[\"Marker\"],\n",
    "        groupby=[\"Number of Execution Units\", \"Problem Size\"],\n",
    "        bins=100,\n",
    "        kind=\"hist\",\n",
    "        y=\"Time (s)\",\n",
    "        widget_location=\"top\",\n",
    "        # subplots=True,\n",
    "    )\n",
    "\n",
    "\n",
    "# show_plot()\n",
    "# explore_timing_dataframe()\n",
    "# show_timing_for_each_iteration()\n",
    "# show_timing_histogram()"
   ]
  }
 ],
 "metadata": {
  "kernelspec": {
   "display_name": "Python 3 (ipykernel)",
   "language": "python",
   "name": "python3"
  },
  "language_info": {
   "codemirror_mode": {
    "name": "ipython",
    "version": 3
   },
   "file_extension": ".py",
   "mimetype": "text/x-python",
   "name": "python",
   "nbconvert_exporter": "python",
   "pygments_lexer": "ipython3",
   "version": "3.11.9"
  }
 },
 "nbformat": 4,
 "nbformat_minor": 5
}
