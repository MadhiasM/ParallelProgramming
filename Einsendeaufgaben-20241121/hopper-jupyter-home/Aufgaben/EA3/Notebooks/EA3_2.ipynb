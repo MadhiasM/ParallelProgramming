{
 "cells": [
  {
   "cell_type": "markdown",
   "metadata": {
    "tags": []
   },
   "source": [
    "# Lösung EA3, Aufgabe 2\n",
    "\n",
    "\n",
    "\n",
    "#  Parallelisierung von Matrix-Vector Multiplikation mit `openmp`\n",
    "\n",
    "Wir betrachten das Problem der Multiplikation einer $n \\times n$-Matrix $A$ mit einem $n$-elementigen Vektor $b$. Das Ergebnis ist ein  $n$-elementiger Vektor $c$, der wie folgt definiert ist:\n",
    "\n",
    "$c_i = \\sum_{i=1}^n A_{i,j}b_j$ für $i = 1, ... , n$.\n",
    "\n",
    "Schreiben Sie ein Programm, das eine Matrix und einen Vektor mit zufalligen double-Werten initialisiert und sie miteinander multipliziert. "
   ]
  },
  {
   "cell_type": "code",
   "execution_count": 1,
   "metadata": {},
   "outputs": [],
   "source": [
    "#include <cstring>\n",
    "#include <math.h>\n",
    "#include <omp.h>\n",
    "#pragma cling load(\"libomp.so\")"
   ]
  },
  {
   "cell_type": "code",
   "execution_count": 2,
   "metadata": {},
   "outputs": [],
   "source": [
    "/**Berechnet das Produkt c = Ab, wobei A eine quadratische Matrix der Größe nxn und b ein Vektor der Größe nx1 sind. \n",
    "    \n",
    "    @param A, b Verweise auf die Eingabedaten.\n",
    "    @param c Verweis auf den Ausgabenvektor.\n",
    "    @param n die Anzahl Zeilen und Spalten in der Eingabematrix.\n",
    "    @param nThreads die Anzahl Threads.\n",
    "    @param anzC die Anzahl Chunks beim Scheduling.\n",
    "    **/\n",
    "void MatrixVectorMult(double *A, double *b, double *c, int n){\n",
    "    double sum;\n",
    "    /*Matrix-Vector Multiplikation*/\n",
    "    for(int i = 0; i < n; i++){\n",
    "        sum = 0;\n",
    "        for (int j = 0; j < n; j++){\n",
    "            double prod = A[i * n + j]*b[j];\n",
    "            sum += prod;\n",
    "        } \n",
    "        c[i] = sum;\n",
    "    }\n",
    "}"
   ]
  },
  {
   "cell_type": "code",
   "execution_count": 3,
   "metadata": {},
   "outputs": [],
   "source": [
    "void init_matrix(double **M, int n, int m, bool zeros){\n",
    "    double *mat = (double*)calloc(n*m, sizeof(double));\n",
    "    if(zeros) memset(mat,  0x0, n*m*sizeof(double));\n",
    "    else {\n",
    "        for (int i=0; i<n; i++){\n",
    "            for(int j= 0; j<m; j++){\n",
    "                mat[i*m+j]= 5.0 - (double)(rand()%20)/10;\n",
    "            }\n",
    "        }\n",
    "    }\n",
    "    *M = mat;\n",
    "}"
   ]
  },
  {
   "cell_type": "code",
   "execution_count": 4,
   "metadata": {},
   "outputs": [
    {
     "name": "stdout",
     "output_type": "stream",
     "text": [
      "I have 4 threads \n"
     ]
    }
   ],
   "source": [
    "// start_main\n",
    "int n = 2048;\n",
    "double *A;\n",
    "double *b;\n",
    "double *c = (double *) calloc(n, sizeof(double));\n",
    "init_matrix(&A, n, n, false);\n",
    "init_matrix(&b, n, 1, false);\n",
    "// Warmup - keep it to get ride of some overhead\n",
    "#pragma omp parallel num_threads(4)\n",
    "{\n",
    "if(omp_get_thread_num()==0)\n",
    "  printf(\"I have %d threads \\n\", omp_get_num_threads());\n",
    "}\n",
    " MatrixVectorMult(A, b, c, n);\n",
    "free(A);\n",
    "free(b);\n",
    "free(c);\n",
    "// end_main"
   ]
  },
  {
   "cell_type": "code",
   "execution_count": 5,
   "metadata": {},
   "outputs": [],
   "source": [
    "#include <performance.hpp>"
   ]
  },
  {
   "cell_type": "code",
   "execution_count": 6,
   "metadata": {},
   "outputs": [],
   "source": [
    "performance p(\"EA3_2.ipynb\");"
   ]
  }
 ],
 "metadata": {
  "kernelspec": {
   "display_name": "C++17 (-O3)",
   "language": "C++17",
   "name": "xcpp17"
  },
  "language_info": {
   "codemirror_mode": "text/x-c++src",
   "file_extension": ".cpp",
   "mimetype": "text/x-c++src",
   "name": "c++",
   "version": "17"
  }
 },
 "nbformat": 4,
 "nbformat_minor": 4
}
