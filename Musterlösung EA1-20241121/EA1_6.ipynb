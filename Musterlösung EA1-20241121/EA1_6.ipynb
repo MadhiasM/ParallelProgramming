{
 "cells": [
  {
   "cell_type": "code",
   "execution_count": 1,
   "id": "1a8ec992-82a3-417b-9c00-6c3154a30bb1",
   "metadata": {},
   "outputs": [],
   "source": [
    "float *data = (float*)malloc(sizeof(float)*10001);"
   ]
  },
  {
   "cell_type": "code",
   "execution_count": 2,
   "id": "54c0b32d-77a3-43e5-b5eb-a8706a747226",
   "metadata": {},
   "outputs": [],
   "source": [
    "data[0]=1.0;\n",
    "for(int i=1; i<10001; i++)\n",
    "    data[i]=1e-9;\n"
   ]
  },
  {
   "cell_type": "code",
   "execution_count": 3,
   "id": "b44224e8-87f0-4a1a-bd53-af2a5707741b",
   "metadata": {},
   "outputs": [
    {
     "name": "stdout",
     "output_type": "stream",
     "text": [
      "Result is 1.00000000 \n"
     ]
    }
   ],
   "source": [
    "float sum1 =0.0;\n",
    "for(int i=0; i<10001; i++){\n",
    " sum1+=data[i];   \n",
    "}\n",
    "printf(\"Result is %.8f \\n\", sum1);"
   ]
  },
  {
   "cell_type": "code",
   "execution_count": 4,
   "id": "7c320acc-1b30-41c5-9407-38f779e0b7bb",
   "metadata": {},
   "outputs": [
    {
     "name": "stdout",
     "output_type": "stream",
     "text": [
      "Result is 1.00001001 \n"
     ]
    }
   ],
   "source": [
    "float sum2 =0.0;\n",
    "for(int i=10000; i>=0; i--){\n",
    " sum2+=data[i];   \n",
    "}\n",
    "printf(\"Result is %.8f \\n\", sum2);"
   ]
  },
  {
   "cell_type": "code",
   "execution_count": null,
   "id": "08e73fed-a43d-4be9-b554-25dad54a3410",
   "metadata": {},
   "outputs": [],
   "source": []
  }
 ],
 "metadata": {
  "kernelspec": {
   "display_name": "C++14",
   "language": "C++14",
   "name": "xcpp14"
  },
  "language_info": {
   "codemirror_mode": "text/x-c++src",
   "file_extension": ".cpp",
   "mimetype": "text/x-c++src",
   "name": "c++",
   "version": "14"
  }
 },
 "nbformat": 4,
 "nbformat_minor": 5
}
